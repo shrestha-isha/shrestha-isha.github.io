{
  "cells": [
    {
      "cell_type": "code",
      "source": [],
      "metadata": {
        "id": "tiFz2S5pbrqu"
      },
      "id": "tiFz2S5pbrqu",
      "execution_count": null,
      "outputs": []
    },
    {
      "cell_type": "markdown",
      "metadata": {
        "id": "5be6b36e-6135-4964-aaac-e44fbc6100cf"
      },
      "source": [
        "# Importing the necessary modules"
      ],
      "id": "5be6b36e-6135-4964-aaac-e44fbc6100cf"
    },
    {
      "cell_type": "code",
      "execution_count": null,
      "metadata": {
        "id": "664dd786-7445-4230-9377-16c1970ea9cd"
      },
      "outputs": [],
      "source": [
        "import os\n",
        "import pandas as pd\n",
        "import numpy as np\n",
        "import matplotlib.pyplot as plt\n",
        "import seaborn as sns\n",
        "import warnings\n",
        "warnings.filterwarnings(\"ignore\")"
      ],
      "id": "664dd786-7445-4230-9377-16c1970ea9cd"
    },
    {
      "cell_type": "code",
      "execution_count": null,
      "metadata": {
        "colab": {
          "base_uri": "https://localhost:8080/"
        },
        "id": "gxmv7JKvqFsJ",
        "outputId": "76c22a77-8629-4c26-8fd4-345f5aa58649"
      },
      "outputs": [
        {
          "output_type": "stream",
          "name": "stdout",
          "text": [
            "Drive already mounted at /content/drive; to attempt to forcibly remount, call drive.mount(\"/content/drive\", force_remount=True).\n"
          ]
        }
      ],
      "source": [
        "from google.colab import drive\n",
        "drive.mount('/content/drive')"
      ],
      "id": "gxmv7JKvqFsJ"
    },
    {
      "cell_type": "code",
      "execution_count": null,
      "metadata": {
        "id": "t5DgNegxM3VI"
      },
      "outputs": [],
      "source": [],
      "id": "t5DgNegxM3VI"
    },
    {
      "cell_type": "code",
      "execution_count": null,
      "metadata": {
        "id": "cdjPhhvQ8puJ"
      },
      "outputs": [],
      "source": [
        "dataf=pd.read_csv('drive/MyDrive/preprocessed_data_3000.csv')"
      ],
      "id": "cdjPhhvQ8puJ"
    },
    {
      "cell_type": "code",
      "execution_count": null,
      "metadata": {
        "colab": {
          "base_uri": "https://localhost:8080/",
          "height": 206
        },
        "id": "KkPvfj9u_BtZ",
        "outputId": "749fcd85-67a9-444f-df67-9b77780d9dfe"
      },
      "outputs": [
        {
          "output_type": "execute_result",
          "data": {
            "text/plain": [
              "                                   preprocessed_text   category\n",
              "0  काठमाडौंचैत्र गते उपत्याका कतिपय विद्यालय चैत्...  Education\n",
              "1  प्रकाश सिलवाल काठमाडौँ चैत गते विगत निर्वाचन द...  Education\n",
              "2  अमरराज नहर् तनहुँ चैत्र गते तनहुँ सामुदायिक वि...  Education\n",
              "3  गोरखापत्र समाचारदाता काठमाडौँ चैत गते शिक्षा व...  Education\n",
              "4  काठमाडौं चैत गते शिक्षा विज्ञान प्रविधिमन्त्री...  Education"
            ],
            "text/html": [
              "\n",
              "  <div id=\"df-e586769c-9afe-4ceb-a7c6-cdca8d50e687\" class=\"colab-df-container\">\n",
              "    <div>\n",
              "<style scoped>\n",
              "    .dataframe tbody tr th:only-of-type {\n",
              "        vertical-align: middle;\n",
              "    }\n",
              "\n",
              "    .dataframe tbody tr th {\n",
              "        vertical-align: top;\n",
              "    }\n",
              "\n",
              "    .dataframe thead th {\n",
              "        text-align: right;\n",
              "    }\n",
              "</style>\n",
              "<table border=\"1\" class=\"dataframe\">\n",
              "  <thead>\n",
              "    <tr style=\"text-align: right;\">\n",
              "      <th></th>\n",
              "      <th>preprocessed_text</th>\n",
              "      <th>category</th>\n",
              "    </tr>\n",
              "  </thead>\n",
              "  <tbody>\n",
              "    <tr>\n",
              "      <th>0</th>\n",
              "      <td>काठमाडौंचैत्र गते उपत्याका कतिपय विद्यालय चैत्...</td>\n",
              "      <td>Education</td>\n",
              "    </tr>\n",
              "    <tr>\n",
              "      <th>1</th>\n",
              "      <td>प्रकाश सिलवाल काठमाडौँ चैत गते विगत निर्वाचन द...</td>\n",
              "      <td>Education</td>\n",
              "    </tr>\n",
              "    <tr>\n",
              "      <th>2</th>\n",
              "      <td>अमरराज नहर् तनहुँ चैत्र गते तनहुँ सामुदायिक वि...</td>\n",
              "      <td>Education</td>\n",
              "    </tr>\n",
              "    <tr>\n",
              "      <th>3</th>\n",
              "      <td>गोरखापत्र समाचारदाता काठमाडौँ चैत गते शिक्षा व...</td>\n",
              "      <td>Education</td>\n",
              "    </tr>\n",
              "    <tr>\n",
              "      <th>4</th>\n",
              "      <td>काठमाडौं चैत गते शिक्षा विज्ञान प्रविधिमन्त्री...</td>\n",
              "      <td>Education</td>\n",
              "    </tr>\n",
              "  </tbody>\n",
              "</table>\n",
              "</div>\n",
              "    <div class=\"colab-df-buttons\">\n",
              "\n",
              "  <div class=\"colab-df-container\">\n",
              "    <button class=\"colab-df-convert\" onclick=\"convertToInteractive('df-e586769c-9afe-4ceb-a7c6-cdca8d50e687')\"\n",
              "            title=\"Convert this dataframe to an interactive table.\"\n",
              "            style=\"display:none;\">\n",
              "\n",
              "  <svg xmlns=\"http://www.w3.org/2000/svg\" height=\"24px\" viewBox=\"0 -960 960 960\">\n",
              "    <path d=\"M120-120v-720h720v720H120Zm60-500h600v-160H180v160Zm220 220h160v-160H400v160Zm0 220h160v-160H400v160ZM180-400h160v-160H180v160Zm440 0h160v-160H620v160ZM180-180h160v-160H180v160Zm440 0h160v-160H620v160Z\"/>\n",
              "  </svg>\n",
              "    </button>\n",
              "\n",
              "  <style>\n",
              "    .colab-df-container {\n",
              "      display:flex;\n",
              "      gap: 12px;\n",
              "    }\n",
              "\n",
              "    .colab-df-convert {\n",
              "      background-color: #E8F0FE;\n",
              "      border: none;\n",
              "      border-radius: 50%;\n",
              "      cursor: pointer;\n",
              "      display: none;\n",
              "      fill: #1967D2;\n",
              "      height: 32px;\n",
              "      padding: 0 0 0 0;\n",
              "      width: 32px;\n",
              "    }\n",
              "\n",
              "    .colab-df-convert:hover {\n",
              "      background-color: #E2EBFA;\n",
              "      box-shadow: 0px 1px 2px rgba(60, 64, 67, 0.3), 0px 1px 3px 1px rgba(60, 64, 67, 0.15);\n",
              "      fill: #174EA6;\n",
              "    }\n",
              "\n",
              "    .colab-df-buttons div {\n",
              "      margin-bottom: 4px;\n",
              "    }\n",
              "\n",
              "    [theme=dark] .colab-df-convert {\n",
              "      background-color: #3B4455;\n",
              "      fill: #D2E3FC;\n",
              "    }\n",
              "\n",
              "    [theme=dark] .colab-df-convert:hover {\n",
              "      background-color: #434B5C;\n",
              "      box-shadow: 0px 1px 3px 1px rgba(0, 0, 0, 0.15);\n",
              "      filter: drop-shadow(0px 1px 2px rgba(0, 0, 0, 0.3));\n",
              "      fill: #FFFFFF;\n",
              "    }\n",
              "  </style>\n",
              "\n",
              "    <script>\n",
              "      const buttonEl =\n",
              "        document.querySelector('#df-e586769c-9afe-4ceb-a7c6-cdca8d50e687 button.colab-df-convert');\n",
              "      buttonEl.style.display =\n",
              "        google.colab.kernel.accessAllowed ? 'block' : 'none';\n",
              "\n",
              "      async function convertToInteractive(key) {\n",
              "        const element = document.querySelector('#df-e586769c-9afe-4ceb-a7c6-cdca8d50e687');\n",
              "        const dataTable =\n",
              "          await google.colab.kernel.invokeFunction('convertToInteractive',\n",
              "                                                    [key], {});\n",
              "        if (!dataTable) return;\n",
              "\n",
              "        const docLinkHtml = 'Like what you see? Visit the ' +\n",
              "          '<a target=\"_blank\" href=https://colab.research.google.com/notebooks/data_table.ipynb>data table notebook</a>'\n",
              "          + ' to learn more about interactive tables.';\n",
              "        element.innerHTML = '';\n",
              "        dataTable['output_type'] = 'display_data';\n",
              "        await google.colab.output.renderOutput(dataTable, element);\n",
              "        const docLink = document.createElement('div');\n",
              "        docLink.innerHTML = docLinkHtml;\n",
              "        element.appendChild(docLink);\n",
              "      }\n",
              "    </script>\n",
              "  </div>\n",
              "\n",
              "\n",
              "<div id=\"df-9a2c3761-bdac-448a-bd42-e6959eb6e73c\">\n",
              "  <button class=\"colab-df-quickchart\" onclick=\"quickchart('df-9a2c3761-bdac-448a-bd42-e6959eb6e73c')\"\n",
              "            title=\"Suggest charts\"\n",
              "            style=\"display:none;\">\n",
              "\n",
              "<svg xmlns=\"http://www.w3.org/2000/svg\" height=\"24px\"viewBox=\"0 0 24 24\"\n",
              "     width=\"24px\">\n",
              "    <g>\n",
              "        <path d=\"M19 3H5c-1.1 0-2 .9-2 2v14c0 1.1.9 2 2 2h14c1.1 0 2-.9 2-2V5c0-1.1-.9-2-2-2zM9 17H7v-7h2v7zm4 0h-2V7h2v10zm4 0h-2v-4h2v4z\"/>\n",
              "    </g>\n",
              "</svg>\n",
              "  </button>\n",
              "\n",
              "<style>\n",
              "  .colab-df-quickchart {\n",
              "      --bg-color: #E8F0FE;\n",
              "      --fill-color: #1967D2;\n",
              "      --hover-bg-color: #E2EBFA;\n",
              "      --hover-fill-color: #174EA6;\n",
              "      --disabled-fill-color: #AAA;\n",
              "      --disabled-bg-color: #DDD;\n",
              "  }\n",
              "\n",
              "  [theme=dark] .colab-df-quickchart {\n",
              "      --bg-color: #3B4455;\n",
              "      --fill-color: #D2E3FC;\n",
              "      --hover-bg-color: #434B5C;\n",
              "      --hover-fill-color: #FFFFFF;\n",
              "      --disabled-bg-color: #3B4455;\n",
              "      --disabled-fill-color: #666;\n",
              "  }\n",
              "\n",
              "  .colab-df-quickchart {\n",
              "    background-color: var(--bg-color);\n",
              "    border: none;\n",
              "    border-radius: 50%;\n",
              "    cursor: pointer;\n",
              "    display: none;\n",
              "    fill: var(--fill-color);\n",
              "    height: 32px;\n",
              "    padding: 0;\n",
              "    width: 32px;\n",
              "  }\n",
              "\n",
              "  .colab-df-quickchart:hover {\n",
              "    background-color: var(--hover-bg-color);\n",
              "    box-shadow: 0 1px 2px rgba(60, 64, 67, 0.3), 0 1px 3px 1px rgba(60, 64, 67, 0.15);\n",
              "    fill: var(--button-hover-fill-color);\n",
              "  }\n",
              "\n",
              "  .colab-df-quickchart-complete:disabled,\n",
              "  .colab-df-quickchart-complete:disabled:hover {\n",
              "    background-color: var(--disabled-bg-color);\n",
              "    fill: var(--disabled-fill-color);\n",
              "    box-shadow: none;\n",
              "  }\n",
              "\n",
              "  .colab-df-spinner {\n",
              "    border: 2px solid var(--fill-color);\n",
              "    border-color: transparent;\n",
              "    border-bottom-color: var(--fill-color);\n",
              "    animation:\n",
              "      spin 1s steps(1) infinite;\n",
              "  }\n",
              "\n",
              "  @keyframes spin {\n",
              "    0% {\n",
              "      border-color: transparent;\n",
              "      border-bottom-color: var(--fill-color);\n",
              "      border-left-color: var(--fill-color);\n",
              "    }\n",
              "    20% {\n",
              "      border-color: transparent;\n",
              "      border-left-color: var(--fill-color);\n",
              "      border-top-color: var(--fill-color);\n",
              "    }\n",
              "    30% {\n",
              "      border-color: transparent;\n",
              "      border-left-color: var(--fill-color);\n",
              "      border-top-color: var(--fill-color);\n",
              "      border-right-color: var(--fill-color);\n",
              "    }\n",
              "    40% {\n",
              "      border-color: transparent;\n",
              "      border-right-color: var(--fill-color);\n",
              "      border-top-color: var(--fill-color);\n",
              "    }\n",
              "    60% {\n",
              "      border-color: transparent;\n",
              "      border-right-color: var(--fill-color);\n",
              "    }\n",
              "    80% {\n",
              "      border-color: transparent;\n",
              "      border-right-color: var(--fill-color);\n",
              "      border-bottom-color: var(--fill-color);\n",
              "    }\n",
              "    90% {\n",
              "      border-color: transparent;\n",
              "      border-bottom-color: var(--fill-color);\n",
              "    }\n",
              "  }\n",
              "</style>\n",
              "\n",
              "  <script>\n",
              "    async function quickchart(key) {\n",
              "      const quickchartButtonEl =\n",
              "        document.querySelector('#' + key + ' button');\n",
              "      quickchartButtonEl.disabled = true;  // To prevent multiple clicks.\n",
              "      quickchartButtonEl.classList.add('colab-df-spinner');\n",
              "      try {\n",
              "        const charts = await google.colab.kernel.invokeFunction(\n",
              "            'suggestCharts', [key], {});\n",
              "      } catch (error) {\n",
              "        console.error('Error during call to suggestCharts:', error);\n",
              "      }\n",
              "      quickchartButtonEl.classList.remove('colab-df-spinner');\n",
              "      quickchartButtonEl.classList.add('colab-df-quickchart-complete');\n",
              "    }\n",
              "    (() => {\n",
              "      let quickchartButtonEl =\n",
              "        document.querySelector('#df-9a2c3761-bdac-448a-bd42-e6959eb6e73c button');\n",
              "      quickchartButtonEl.style.display =\n",
              "        google.colab.kernel.accessAllowed ? 'block' : 'none';\n",
              "    })();\n",
              "  </script>\n",
              "</div>\n",
              "\n",
              "    </div>\n",
              "  </div>\n"
            ]
          },
          "metadata": {},
          "execution_count": 4
        }
      ],
      "source": [
        "dataf.head()"
      ],
      "id": "KkPvfj9u_BtZ"
    },
    {
      "cell_type": "markdown",
      "metadata": {
        "id": "f1e6274a-d926-4555-b0e0-9d0656dd0f6f"
      },
      "source": [
        "# Load our csv file from local device"
      ],
      "id": "f1e6274a-d926-4555-b0e0-9d0656dd0f6f"
    },
    {
      "cell_type": "code",
      "execution_count": null,
      "metadata": {
        "id": "b349647f-6573-4425-9431-5ee3dd1eb43a"
      },
      "outputs": [],
      "source": [
        "df = dataf.copy()"
      ],
      "id": "b349647f-6573-4425-9431-5ee3dd1eb43a"
    },
    {
      "cell_type": "markdown",
      "metadata": {
        "id": "1cac79d4-c4d9-498f-aba8-3db05789488d"
      },
      "source": [
        "## We count the news per category"
      ],
      "id": "1cac79d4-c4d9-498f-aba8-3db05789488d"
    },
    {
      "cell_type": "code",
      "execution_count": null,
      "metadata": {
        "colab": {
          "base_uri": "https://localhost:8080/",
          "height": 488
        },
        "id": "a5acb3cb-e5a7-44a7-b7e2-15c9a4e1a1b9",
        "outputId": "88268c6d-af7d-4ad3-d8d2-b218461e2744"
      },
      "outputs": [
        {
          "output_type": "execute_result",
          "data": {
            "text/plain": [
              "               preprocessed_text\n",
              "category                        \n",
              "Automobile                  2999\n",
              "Business                    3000\n",
              "Crime                       2999\n",
              "Education                   3000\n",
              "Entertainment               3000\n",
              "Health                      3000\n",
              "Literature                  3000\n",
              "Market                      3000\n",
              "Politics                    3000\n",
              "Sports                      3000\n",
              "Technology                  2998\n",
              "Tourism                     2984\n",
              "World                       3000"
            ],
            "text/html": [
              "\n",
              "  <div id=\"df-eb06f64f-2fb0-4dea-a605-d77e2cc1cb94\" class=\"colab-df-container\">\n",
              "    <div>\n",
              "<style scoped>\n",
              "    .dataframe tbody tr th:only-of-type {\n",
              "        vertical-align: middle;\n",
              "    }\n",
              "\n",
              "    .dataframe tbody tr th {\n",
              "        vertical-align: top;\n",
              "    }\n",
              "\n",
              "    .dataframe thead th {\n",
              "        text-align: right;\n",
              "    }\n",
              "</style>\n",
              "<table border=\"1\" class=\"dataframe\">\n",
              "  <thead>\n",
              "    <tr style=\"text-align: right;\">\n",
              "      <th></th>\n",
              "      <th>preprocessed_text</th>\n",
              "    </tr>\n",
              "    <tr>\n",
              "      <th>category</th>\n",
              "      <th></th>\n",
              "    </tr>\n",
              "  </thead>\n",
              "  <tbody>\n",
              "    <tr>\n",
              "      <th>Automobile</th>\n",
              "      <td>2999</td>\n",
              "    </tr>\n",
              "    <tr>\n",
              "      <th>Business</th>\n",
              "      <td>3000</td>\n",
              "    </tr>\n",
              "    <tr>\n",
              "      <th>Crime</th>\n",
              "      <td>2999</td>\n",
              "    </tr>\n",
              "    <tr>\n",
              "      <th>Education</th>\n",
              "      <td>3000</td>\n",
              "    </tr>\n",
              "    <tr>\n",
              "      <th>Entertainment</th>\n",
              "      <td>3000</td>\n",
              "    </tr>\n",
              "    <tr>\n",
              "      <th>Health</th>\n",
              "      <td>3000</td>\n",
              "    </tr>\n",
              "    <tr>\n",
              "      <th>Literature</th>\n",
              "      <td>3000</td>\n",
              "    </tr>\n",
              "    <tr>\n",
              "      <th>Market</th>\n",
              "      <td>3000</td>\n",
              "    </tr>\n",
              "    <tr>\n",
              "      <th>Politics</th>\n",
              "      <td>3000</td>\n",
              "    </tr>\n",
              "    <tr>\n",
              "      <th>Sports</th>\n",
              "      <td>3000</td>\n",
              "    </tr>\n",
              "    <tr>\n",
              "      <th>Technology</th>\n",
              "      <td>2998</td>\n",
              "    </tr>\n",
              "    <tr>\n",
              "      <th>Tourism</th>\n",
              "      <td>2984</td>\n",
              "    </tr>\n",
              "    <tr>\n",
              "      <th>World</th>\n",
              "      <td>3000</td>\n",
              "    </tr>\n",
              "  </tbody>\n",
              "</table>\n",
              "</div>\n",
              "    <div class=\"colab-df-buttons\">\n",
              "\n",
              "  <div class=\"colab-df-container\">\n",
              "    <button class=\"colab-df-convert\" onclick=\"convertToInteractive('df-eb06f64f-2fb0-4dea-a605-d77e2cc1cb94')\"\n",
              "            title=\"Convert this dataframe to an interactive table.\"\n",
              "            style=\"display:none;\">\n",
              "\n",
              "  <svg xmlns=\"http://www.w3.org/2000/svg\" height=\"24px\" viewBox=\"0 -960 960 960\">\n",
              "    <path d=\"M120-120v-720h720v720H120Zm60-500h600v-160H180v160Zm220 220h160v-160H400v160Zm0 220h160v-160H400v160ZM180-400h160v-160H180v160Zm440 0h160v-160H620v160ZM180-180h160v-160H180v160Zm440 0h160v-160H620v160Z\"/>\n",
              "  </svg>\n",
              "    </button>\n",
              "\n",
              "  <style>\n",
              "    .colab-df-container {\n",
              "      display:flex;\n",
              "      gap: 12px;\n",
              "    }\n",
              "\n",
              "    .colab-df-convert {\n",
              "      background-color: #E8F0FE;\n",
              "      border: none;\n",
              "      border-radius: 50%;\n",
              "      cursor: pointer;\n",
              "      display: none;\n",
              "      fill: #1967D2;\n",
              "      height: 32px;\n",
              "      padding: 0 0 0 0;\n",
              "      width: 32px;\n",
              "    }\n",
              "\n",
              "    .colab-df-convert:hover {\n",
              "      background-color: #E2EBFA;\n",
              "      box-shadow: 0px 1px 2px rgba(60, 64, 67, 0.3), 0px 1px 3px 1px rgba(60, 64, 67, 0.15);\n",
              "      fill: #174EA6;\n",
              "    }\n",
              "\n",
              "    .colab-df-buttons div {\n",
              "      margin-bottom: 4px;\n",
              "    }\n",
              "\n",
              "    [theme=dark] .colab-df-convert {\n",
              "      background-color: #3B4455;\n",
              "      fill: #D2E3FC;\n",
              "    }\n",
              "\n",
              "    [theme=dark] .colab-df-convert:hover {\n",
              "      background-color: #434B5C;\n",
              "      box-shadow: 0px 1px 3px 1px rgba(0, 0, 0, 0.15);\n",
              "      filter: drop-shadow(0px 1px 2px rgba(0, 0, 0, 0.3));\n",
              "      fill: #FFFFFF;\n",
              "    }\n",
              "  </style>\n",
              "\n",
              "    <script>\n",
              "      const buttonEl =\n",
              "        document.querySelector('#df-eb06f64f-2fb0-4dea-a605-d77e2cc1cb94 button.colab-df-convert');\n",
              "      buttonEl.style.display =\n",
              "        google.colab.kernel.accessAllowed ? 'block' : 'none';\n",
              "\n",
              "      async function convertToInteractive(key) {\n",
              "        const element = document.querySelector('#df-eb06f64f-2fb0-4dea-a605-d77e2cc1cb94');\n",
              "        const dataTable =\n",
              "          await google.colab.kernel.invokeFunction('convertToInteractive',\n",
              "                                                    [key], {});\n",
              "        if (!dataTable) return;\n",
              "\n",
              "        const docLinkHtml = 'Like what you see? Visit the ' +\n",
              "          '<a target=\"_blank\" href=https://colab.research.google.com/notebooks/data_table.ipynb>data table notebook</a>'\n",
              "          + ' to learn more about interactive tables.';\n",
              "        element.innerHTML = '';\n",
              "        dataTable['output_type'] = 'display_data';\n",
              "        await google.colab.output.renderOutput(dataTable, element);\n",
              "        const docLink = document.createElement('div');\n",
              "        docLink.innerHTML = docLinkHtml;\n",
              "        element.appendChild(docLink);\n",
              "      }\n",
              "    </script>\n",
              "  </div>\n",
              "\n",
              "\n",
              "<div id=\"df-87b4237a-3499-451d-9378-184c47bb441a\">\n",
              "  <button class=\"colab-df-quickchart\" onclick=\"quickchart('df-87b4237a-3499-451d-9378-184c47bb441a')\"\n",
              "            title=\"Suggest charts\"\n",
              "            style=\"display:none;\">\n",
              "\n",
              "<svg xmlns=\"http://www.w3.org/2000/svg\" height=\"24px\"viewBox=\"0 0 24 24\"\n",
              "     width=\"24px\">\n",
              "    <g>\n",
              "        <path d=\"M19 3H5c-1.1 0-2 .9-2 2v14c0 1.1.9 2 2 2h14c1.1 0 2-.9 2-2V5c0-1.1-.9-2-2-2zM9 17H7v-7h2v7zm4 0h-2V7h2v10zm4 0h-2v-4h2v4z\"/>\n",
              "    </g>\n",
              "</svg>\n",
              "  </button>\n",
              "\n",
              "<style>\n",
              "  .colab-df-quickchart {\n",
              "      --bg-color: #E8F0FE;\n",
              "      --fill-color: #1967D2;\n",
              "      --hover-bg-color: #E2EBFA;\n",
              "      --hover-fill-color: #174EA6;\n",
              "      --disabled-fill-color: #AAA;\n",
              "      --disabled-bg-color: #DDD;\n",
              "  }\n",
              "\n",
              "  [theme=dark] .colab-df-quickchart {\n",
              "      --bg-color: #3B4455;\n",
              "      --fill-color: #D2E3FC;\n",
              "      --hover-bg-color: #434B5C;\n",
              "      --hover-fill-color: #FFFFFF;\n",
              "      --disabled-bg-color: #3B4455;\n",
              "      --disabled-fill-color: #666;\n",
              "  }\n",
              "\n",
              "  .colab-df-quickchart {\n",
              "    background-color: var(--bg-color);\n",
              "    border: none;\n",
              "    border-radius: 50%;\n",
              "    cursor: pointer;\n",
              "    display: none;\n",
              "    fill: var(--fill-color);\n",
              "    height: 32px;\n",
              "    padding: 0;\n",
              "    width: 32px;\n",
              "  }\n",
              "\n",
              "  .colab-df-quickchart:hover {\n",
              "    background-color: var(--hover-bg-color);\n",
              "    box-shadow: 0 1px 2px rgba(60, 64, 67, 0.3), 0 1px 3px 1px rgba(60, 64, 67, 0.15);\n",
              "    fill: var(--button-hover-fill-color);\n",
              "  }\n",
              "\n",
              "  .colab-df-quickchart-complete:disabled,\n",
              "  .colab-df-quickchart-complete:disabled:hover {\n",
              "    background-color: var(--disabled-bg-color);\n",
              "    fill: var(--disabled-fill-color);\n",
              "    box-shadow: none;\n",
              "  }\n",
              "\n",
              "  .colab-df-spinner {\n",
              "    border: 2px solid var(--fill-color);\n",
              "    border-color: transparent;\n",
              "    border-bottom-color: var(--fill-color);\n",
              "    animation:\n",
              "      spin 1s steps(1) infinite;\n",
              "  }\n",
              "\n",
              "  @keyframes spin {\n",
              "    0% {\n",
              "      border-color: transparent;\n",
              "      border-bottom-color: var(--fill-color);\n",
              "      border-left-color: var(--fill-color);\n",
              "    }\n",
              "    20% {\n",
              "      border-color: transparent;\n",
              "      border-left-color: var(--fill-color);\n",
              "      border-top-color: var(--fill-color);\n",
              "    }\n",
              "    30% {\n",
              "      border-color: transparent;\n",
              "      border-left-color: var(--fill-color);\n",
              "      border-top-color: var(--fill-color);\n",
              "      border-right-color: var(--fill-color);\n",
              "    }\n",
              "    40% {\n",
              "      border-color: transparent;\n",
              "      border-right-color: var(--fill-color);\n",
              "      border-top-color: var(--fill-color);\n",
              "    }\n",
              "    60% {\n",
              "      border-color: transparent;\n",
              "      border-right-color: var(--fill-color);\n",
              "    }\n",
              "    80% {\n",
              "      border-color: transparent;\n",
              "      border-right-color: var(--fill-color);\n",
              "      border-bottom-color: var(--fill-color);\n",
              "    }\n",
              "    90% {\n",
              "      border-color: transparent;\n",
              "      border-bottom-color: var(--fill-color);\n",
              "    }\n",
              "  }\n",
              "</style>\n",
              "\n",
              "  <script>\n",
              "    async function quickchart(key) {\n",
              "      const quickchartButtonEl =\n",
              "        document.querySelector('#' + key + ' button');\n",
              "      quickchartButtonEl.disabled = true;  // To prevent multiple clicks.\n",
              "      quickchartButtonEl.classList.add('colab-df-spinner');\n",
              "      try {\n",
              "        const charts = await google.colab.kernel.invokeFunction(\n",
              "            'suggestCharts', [key], {});\n",
              "      } catch (error) {\n",
              "        console.error('Error during call to suggestCharts:', error);\n",
              "      }\n",
              "      quickchartButtonEl.classList.remove('colab-df-spinner');\n",
              "      quickchartButtonEl.classList.add('colab-df-quickchart-complete');\n",
              "    }\n",
              "    (() => {\n",
              "      let quickchartButtonEl =\n",
              "        document.querySelector('#df-87b4237a-3499-451d-9378-184c47bb441a button');\n",
              "      quickchartButtonEl.style.display =\n",
              "        google.colab.kernel.accessAllowed ? 'block' : 'none';\n",
              "    })();\n",
              "  </script>\n",
              "</div>\n",
              "\n",
              "    </div>\n",
              "  </div>\n"
            ]
          },
          "metadata": {},
          "execution_count": 6
        }
      ],
      "source": [
        "df[[\"preprocessed_text\",\"category\"]].groupby(\"category\").count()"
      ],
      "id": "a5acb3cb-e5a7-44a7-b7e2-15c9a4e1a1b9"
    },
    {
      "cell_type": "markdown",
      "metadata": {
        "id": "b5590722-83de-4c88-94c4-9782416f2cf4"
      },
      "source": [
        "## Bar plot of above frequency of text file per category"
      ],
      "id": "b5590722-83de-4c88-94c4-9782416f2cf4"
    },
    {
      "cell_type": "code",
      "source": [
        "df.category.value_counts().plot(kind='pie',figsize=(8,8),autopct='%1.1f%%',ylabel='')"
      ],
      "metadata": {
        "colab": {
          "base_uri": "https://localhost:8080/",
          "height": 670
        },
        "id": "Chy59zVA7uty",
        "outputId": "84816e2b-3eb7-4fd2-a761-eed66381f310"
      },
      "id": "Chy59zVA7uty",
      "execution_count": null,
      "outputs": [
        {
          "output_type": "execute_result",
          "data": {
            "text/plain": [
              "<Axes: >"
            ]
          },
          "metadata": {},
          "execution_count": 7
        },
        {
          "output_type": "display_data",
          "data": {
            "text/plain": [
              "<Figure size 800x800 with 1 Axes>"
            ],
            "image/png": "[encoded data removed]"
          },
          "metadata": {}
        }
      ]
    },
    {
      "cell_type": "code",
      "execution_count": null,
      "metadata": {
        "colab": {
          "base_uri": "https://localhost:8080/",
          "height": 553
        },
        "id": "e0b8e2ce-6901-42e2-8ff2-2026c6a2178f",
        "outputId": "e09d7797-201b-4042-d9cd-b9eb13f06536"
      },
      "outputs": [
        {
          "output_type": "execute_result",
          "data": {
            "text/plain": [
              "<Axes: xlabel='category'>"
            ]
          },
          "metadata": {},
          "execution_count": 8
        },
        {
          "output_type": "display_data",
          "data": {
            "text/plain": [
              "<Figure size 640x480 with 1 Axes>"
            ],
            "image/png": "[encoded data removed]"
          },
          "metadata": {}
        }
      ],
      "source": [
        "df[[\"preprocessed_text\",\"category\"]].groupby(\"category\").count().plot(kind=\"bar\")"
      ],
      "id": "e0b8e2ce-6901-42e2-8ff2-2026c6a2178f"
    },
    {
      "cell_type": "markdown",
      "metadata": {
        "id": "3b4f5a1a-b752-4209-8ae0-4c75fa33d701"
      },
      "source": [
        "# Load our Stopwords file"
      ],
      "id": "3b4f5a1a-b752-4209-8ae0-4c75fa33d701"
    },
    {
      "cell_type": "code",
      "execution_count": null,
      "metadata": {
        "colab": {
          "base_uri": "https://localhost:8080/"
        },
        "id": "GfS9ry_vNlsT",
        "outputId": "59210d4c-8609-4000-96a9-182f05a31cd9"
      },
      "outputs": [
        {
          "output_type": "execute_result",
          "data": {
            "text/plain": [
              "array(['Education', 'World', 'Sports', 'Technology', 'Crime', 'Health',\n",
              "       'Market', 'Politics', 'Automobile', 'Tourism', 'Literature',\n",
              "       'Entertainment', 'Business'], dtype=object)"
            ]
          },
          "metadata": {},
          "execution_count": 9
        }
      ],
      "source": [
        "df['category'].unique()"
      ],
      "id": "GfS9ry_vNlsT"
    },
    {
      "cell_type": "markdown",
      "metadata": {
        "id": "b237a472-e743-4682-9573-b4b43c44be6a"
      },
      "source": [
        "# Load our Punctuation word file"
      ],
      "id": "b237a472-e743-4682-9573-b4b43c44be6a"
    },
    {
      "cell_type": "markdown",
      "metadata": {
        "id": "11f296cd-bcd1-4fa6-a917-073c30c0cedb"
      },
      "source": [
        "# Text pre-processing\n",
        "### Here er wrote a method called preprocess_text that takes data, stop words, and punctuation words as parameters. Then, we created a list called new_cat to hold it. Also initialized noise as numbers. For each words:\n",
        "   *  #### If word is not in punctuation or stop words then,\n",
        "   *  #### Do not take this word if it contains noise characters.\n",
        "   *  #### Remove parenthesis"
      ],
      "id": "11f296cd-bcd1-4fa6-a917-073c30c0cedb"
    },
    {
      "cell_type": "code",
      "execution_count": null,
      "metadata": {
        "id": "1606dfda-0310-46e4-8c1a-fb4f44ad801d"
      },
      "outputs": [],
      "source": [
        "ndf = df.copy()\n"
      ],
      "id": "1606dfda-0310-46e4-8c1a-fb4f44ad801d"
    },
    {
      "cell_type": "markdown",
      "metadata": {
        "id": "542201d5-1226-484f-9670-f7d9b14269b4"
      },
      "source": [
        "# Splitting data into Train and Test set\n",
        "  ### Here we are splitting the Train data as 80% and Test data as 20%. Train data are used for model fitting and test data are used while doing model prediction. But before that, we     will merge two similar categories into one and also assign a unique label for each class."
      ],
      "id": "542201d5-1226-484f-9670-f7d9b14269b4"
    },
    {
      "cell_type": "code",
      "execution_count": null,
      "metadata": {
        "id": "yz7j506nC9W7"
      },
      "outputs": [],
      "source": [],
      "id": "yz7j506nC9W7"
    },
    {
      "cell_type": "code",
      "execution_count": null,
      "metadata": {
        "colab": {
          "base_uri": "https://localhost:8080/"
        },
        "id": "37fc6901-3522-4e50-be4d-c44cb6c8196e",
        "outputId": "5b506b78-b055-4d0e-865c-dea95b0c931e"
      },
      "outputs": [
        {
          "output_type": "stream",
          "name": "stdout",
          "text": [
            "               label  target\n",
            "0          Education       0\n",
            "3000           World       1\n",
            "6000          Sports       2\n",
            "9000      Technology       3\n",
            "11998          Crime       4\n",
            "14997         Health       5\n",
            "17997         Market       6\n",
            "20997       Politics       7\n",
            "23997     Automobile       8\n",
            "26996        Tourism       9\n",
            "29980     Literature      10\n",
            "32980  Entertainment      11\n",
            "35980       Business      12\n"
          ]
        }
      ],
      "source": [
        "\n",
        "data = pd.DataFrame()\n",
        "\n",
        "data[\"text\"]=ndf.preprocessed_text\n",
        "# Preprocess the text data\n",
        "#data[\"text\"] = preprocess_text(data[\"text\"], stop_words, punctuation_words)\n",
        "\n",
        "\n",
        "# data[\"category\"]=ndf.category\n",
        "\n",
        "data[\"label\"]=ndf.category\n",
        "\n",
        "#Changing the categories to integer form (Label ENCODING)\n",
        "data[\"target\"] = pd.factorize(ndf.category)[0]\n",
        "\n",
        "classes=['Education', 'World', 'Sports', 'Technology', 'Crime', 'Health',\n",
        "       'Market', 'Politics', 'Automobile', 'Tourism', 'Literature',\n",
        "       'Entertainment', 'Business']\n",
        "\n",
        "\n",
        "\n",
        "category = data[['label', 'target']].drop_duplicates().sort_values('target')\n",
        "print(category)\n"
      ],
      "id": "37fc6901-3522-4e50-be4d-c44cb6c8196e"
    },
    {
      "cell_type": "code",
      "execution_count": null,
      "metadata": {
        "colab": {
          "base_uri": "https://localhost:8080/"
        },
        "id": "IyUN5FkX1Atu",
        "outputId": "49c46c12-238a-4961-babc-b3d909d23d1d"
      },
      "outputs": [
        {
          "output_type": "stream",
          "name": "stdout",
          "text": [
            "0    काठमाडौंचैत्र गते उपत्याका कतिपय विद्यालय चैत्...\n",
            "1    प्रकाश सिलवाल काठमाडौँ चैत गते विगत निर्वाचन द...\n",
            "2    अमरराज नहर् तनहुँ चैत्र गते तनहुँ सामुदायिक वि...\n",
            "3    गोरखापत्र समाचारदाता काठमाडौँ चैत गते शिक्षा व...\n",
            "4    काठमाडौं चैत गते शिक्षा विज्ञान प्रविधिमन्त्री...\n",
            "Name: text, dtype: object\n"
          ]
        }
      ],
      "source": [
        "print(data[\"text\"].head())"
      ],
      "id": "IyUN5FkX1Atu"
    },
    {
      "cell_type": "code",
      "execution_count": null,
      "metadata": {
        "id": "KCtwNElOE8UI"
      },
      "outputs": [],
      "source": [
        "# from google.colab import files\n",
        "\n",
        "# uploaded = files.upload()\n"
      ],
      "id": "KCtwNElOE8UI"
    },
    {
      "cell_type": "code",
      "execution_count": null,
      "metadata": {
        "id": "nWBPgqM2EI9n"
      },
      "outputs": [],
      "source": [
        "# from collections import Counter\n",
        "# from wordcloud import WordCloud, ImageColorGenerator\n",
        "# from matplotlib.font_manager import FontProperties\n",
        "# font_path='Mangal Regular.otf'\n",
        "# font_prop=FontProperties(fname=font_path,size=25)\n",
        "# categories = data.label.unique()\n",
        "# for cat in categories:\n",
        "#   #print(cat)\n",
        "#   tdf = data[data.label==cat]\n",
        "\n",
        "#   cat_content = \" \".join(tdf[\"text\"])\n",
        "#   words = cat_content.split()\n",
        "\n",
        "#   nwords = dict(Counter(words))\n",
        "\n",
        "\n",
        "#   word_cloud = WordCloud(collocations = False,font_path= font_path, background_color = 'white').generate_from_frequencies(nwords)\n",
        "\n",
        "#   fig = plt.figure(figsize=(8,10))\n",
        "#   plt.imshow(word_cloud, interpolation=\"bilinear\")\n",
        "#   # remove plot axes\n",
        "#   plt.axis(\"off\")\n",
        "#   plt.title(cat)\n",
        "#   plt.show()\n",
        "#   # break"
      ],
      "id": "nWBPgqM2EI9n"
    },
    {
      "cell_type": "code",
      "execution_count": null,
      "metadata": {
        "id": "CC3TD3MtBI_S"
      },
      "outputs": [],
      "source": [],
      "id": "CC3TD3MtBI_S"
    },
    {
      "cell_type": "code",
      "execution_count": null,
      "metadata": {
        "id": "u056EdL0AnTM"
      },
      "outputs": [],
      "source": [
        "from sklearn.model_selection import train_test_split\n",
        "X_train, X_test, Y_train, Y_test = train_test_split(data[\"text\"],data[\"target\"],test_size=0.2, random_state=1)"
      ],
      "id": "u056EdL0AnTM"
    },
    {
      "cell_type": "code",
      "execution_count": null,
      "metadata": {
        "colab": {
          "base_uri": "https://localhost:8080/"
        },
        "id": "dXVQhRTELvMi",
        "outputId": "83e2960f-0d32-4e3f-9307-ea64d8ee2bf4"
      },
      "outputs": [
        {
          "output_type": "execute_result",
          "data": {
            "text/plain": [
              "(31184,)"
            ]
          },
          "metadata": {},
          "execution_count": 16
        }
      ],
      "source": [
        "X_train.shape"
      ],
      "id": "dXVQhRTELvMi"
    },
    {
      "cell_type": "code",
      "execution_count": null,
      "metadata": {
        "colab": {
          "base_uri": "https://localhost:8080/"
        },
        "id": "iLGtucU0EdP9",
        "outputId": "0acefb88-69f7-4bc4-f431-35bff77269fe"
      },
      "outputs": [
        {
          "output_type": "execute_result",
          "data": {
            "text/plain": [
              "(7796,)"
            ]
          },
          "metadata": {},
          "execution_count": 17
        }
      ],
      "source": [
        "X_test.shape"
      ],
      "id": "iLGtucU0EdP9"
    },
    {
      "cell_type": "code",
      "execution_count": null,
      "metadata": {
        "id": "srrHNVJ8LC2m"
      },
      "outputs": [],
      "source": [
        "# !pip install -U sentence-transformers"
      ],
      "id": "srrHNVJ8LC2m"
    },
    {
      "cell_type": "code",
      "execution_count": null,
      "metadata": {
        "id": "V5pFHzyvaDJp"
      },
      "outputs": [],
      "source": [],
      "id": "V5pFHzyvaDJp"
    },
    {
      "cell_type": "code",
      "execution_count": null,
      "metadata": {
        "id": "iABkR_z9IjYT"
      },
      "outputs": [],
      "source": [
        "# from sentence_transformers import SentenceTransformer\n",
        "# model = SentenceTransformer('syubraj/sentence_similarity_nepali')\n"
      ],
      "id": "iABkR_z9IjYT"
    },
    {
      "cell_type": "code",
      "execution_count": null,
      "metadata": {
        "colab": {
          "base_uri": "https://localhost:8080/"
        },
        "id": "i7FcGBan8Ns8",
        "outputId": "5e7f5153-0455-4290-cccd-924e70abf2fc"
      },
      "outputs": [
        {
          "output_type": "execute_result",
          "data": {
            "text/plain": [
              "pandas.core.series.Series"
            ]
          },
          "metadata": {},
          "execution_count": 20
        }
      ],
      "source": [
        "type(X_train)"
      ],
      "id": "i7FcGBan8Ns8"
    },
    {
      "cell_type": "code",
      "execution_count": null,
      "metadata": {
        "id": "WGN7Dw5h084J"
      },
      "outputs": [],
      "source": [
        "\n",
        "#!pip install evaluate\n"
      ],
      "id": "WGN7Dw5h084J"
    },
    {
      "cell_type": "code",
      "execution_count": null,
      "metadata": {
        "id": "zNGqZkq6aPfG"
      },
      "outputs": [],
      "source": [
        "from transformers import AutoTokenizer,AutoModelForTextEncoding, BertTokenizer, BertModel, AutoModelForMaskedLM, AutoModel, AutoModelForSequenceClassification"
      ],
      "id": "zNGqZkq6aPfG"
    },
    {
      "cell_type": "code",
      "execution_count": null,
      "metadata": {
        "id": "FoQHQ8y4Af-I"
      },
      "outputs": [],
      "source": [
        "# model_name = \"sahajrajmalla/deberta-base-nepali-senti-analysis\"\n",
        "# model_name = \"dexhrestha/Nepali-DistilBERT\"\n",
        "# model_name=\"sahajrajmalla/patrakar\"\n",
        "model_name='Shushant/nepaliBERT'\n",
        "# model_name = \"NepBERTa/NepBERTa\""
      ],
      "id": "FoQHQ8y4Af-I"
    },
    {
      "cell_type": "code",
      "execution_count": null,
      "metadata": {
        "id": "_GNq8a4ubVJv"
      },
      "outputs": [],
      "source": [
        "# tokenizer = AutoTokenizer.from_pretrained(model_name)\n",
        "# model = AutoModel.from_pretrained(model_name)"
      ],
      "id": "_GNq8a4ubVJv"
    },
    {
      "cell_type": "code",
      "execution_count": null,
      "metadata": {
        "colab": {
          "base_uri": "https://localhost:8080/",
          "height": 105
        },
        "id": "zHVBkVs2c5Ld",
        "outputId": "2cf84b3f-cb6e-48b2-e57f-0cde7f763a46"
      },
      "outputs": [
        {
          "output_type": "execute_result",
          "data": {
            "text/plain": [
              "'काठमाडौं शिक्षा विज्ञान प्रविधि मन्त्रालय तयार पार संघीय शिक्षा ऐन मस् शिक्षक सरुवा व्यवस्थान प्रस्ताव गर यस्तै मस् विभिन्न अवस्था शिक्षक सरुवा नहु व्यवस्था गर मस् शिक्षक स्थायी सेवा अवधि वर्ष नपुग अनिवार्य अवकास वर्ष बाँ सरुवा भई कार्य विद्यालय कम्ती शैक्षिक वर्ष पूरा नगर शिक्षक सरुवा नहु प्रस्ताव गर विद्यमान ऐन विद्यालय वर्ष सेवा अवधि पुरा स्थायी शिक्षक जिल्ला शिक्षा अधिकारी जिल्ला क्षेत्रीय निर्देशक क्षेत्र शिक्षा विभाग देशैभरी सरुवा सक् व्यवस्था यस परिवर्तन विभिन्न अवस्था शिक्षक सरुवा नहु प्रस्ताव मस् समेट व्यवस्थापन समिति सहमती सम्बन्धित स्थानीय तह पालि भित्र विद्यालय कार्य शिक्षक सरुवा सक् मस् उल्लेख जिल्ला भित्र अन्तर स्थानीय तहबीच शिक्षक सरुवा व्यवस्थापन समिति स्थानीय तह सहमती जिल्ला तह शिक्षा सम्बन्धि मामिला हेर् कार्यालय प्रस्ताव सरुवा विवरण प्रदेश शिक्षा विभाग पठाउ विद्यमान ऐन शिक्षक निवेदन आधार जिल्ला शिक्षा अधिकारी सरुवा व्यवस्था प्रदेश भित्र जिल्लाबाट जिल्ला प्रदेश शिक्षा विभाग सरुवा मस् प्रस्ताव गर सरुवा गर् व्यवस्थापन समिति स्थानीय तह सहमती आवश्यक कुनैपनि शिक्षक सरुवा नगरी नहु अवस्था आए स्थानीय तह सहमती सरुवा बाधा बुँ ऐन मस् उल्लेख यस्तै स्थानीय तह सहमती मन्त्रालय स्विकृति राष्ट्रिय शिक्षा विभाग शिक्षक मुलुक जुनसु जिल्ला सरुवा सक् मस् उल्लेख सरुवा गर् महिला अपाङ्गता शिक्षक सामान्यतया अपायक स्थान सरुवा नगर् विद्यालय रिक्त पद सरुवा गर् व्यवस्थापन समिति सहमती लिन आवश्यक नभ मस् उल्लेख'"
            ],
            "application/vnd.google.colaboratory.intrinsic+json": {
              "type": "string"
            }
          },
          "metadata": {},
          "execution_count": 25
        }
      ],
      "source": [
        "X_train.to_list()[1]"
      ],
      "id": "zHVBkVs2c5Ld"
    },
    {
      "cell_type": "code",
      "execution_count": null,
      "metadata": {
        "id": "oC5fTR89esBk"
      },
      "outputs": [],
      "source": [
        "# tokenized_data = tokenizer(X_train.to_list()[:2],\n",
        "#                            padding=\"max_length\",truncation=True,max_length=130,return_tensors=\"pt\")\n",
        "# tokenized_data[\"input_ids\"].shape"
      ],
      "id": "oC5fTR89esBk"
    },
    {
      "cell_type": "code",
      "execution_count": null,
      "metadata": {
        "id": "mzz2LAsULGNK"
      },
      "outputs": [],
      "source": [
        "# tokenized_data[\"attention_mask\"].shape"
      ],
      "id": "mzz2LAsULGNK"
    },
    {
      "cell_type": "code",
      "execution_count": null,
      "metadata": {
        "id": "4TizkYKDc0Y5"
      },
      "outputs": [],
      "source": [
        "# encoded_data = model(**tokenized_data)"
      ],
      "id": "4TizkYKDc0Y5"
    },
    {
      "cell_type": "code",
      "execution_count": null,
      "metadata": {
        "id": "O8iDagu8Quzx"
      },
      "outputs": [],
      "source": [
        "# encoded_data.__dir__()"
      ],
      "id": "O8iDagu8Quzx"
    },
    {
      "cell_type": "code",
      "execution_count": null,
      "metadata": {
        "id": "SF1vWIImOW8m"
      },
      "outputs": [],
      "source": [
        "# encoded_data.pooler_output"
      ],
      "id": "SF1vWIImOW8m"
    },
    {
      "cell_type": "code",
      "execution_count": null,
      "metadata": {
        "id": "BaxKFOrbwmJ-"
      },
      "outputs": [],
      "source": [
        "# encoded_data['last_hidden_state'][:,-1,:].shape"
      ],
      "id": "BaxKFOrbwmJ-"
    },
    {
      "cell_type": "code",
      "execution_count": null,
      "metadata": {
        "id": "cNG0ypu0LqLs"
      },
      "outputs": [],
      "source": [
        "#encoding the models\n",
        "# train_embeddings = model.encode(X_train.to_list())\n",
        "# test_embeddings=model.encode(X_test.to_list())"
      ],
      "id": "cNG0ypu0LqLs"
    },
    {
      "cell_type": "code",
      "execution_count": null,
      "metadata": {
        "id": "2C67hOY_Cm0u"
      },
      "outputs": [],
      "source": [
        "from torch.utils.data import Dataset, DataLoader"
      ],
      "id": "2C67hOY_Cm0u"
    },
    {
      "cell_type": "code",
      "execution_count": null,
      "metadata": {
        "id": "iEQB1zj7EIQY"
      },
      "outputs": [],
      "source": [
        "# prepare data for hugging face\n",
        "class NewsDataset(Dataset):\n",
        "    def __init__(self, texts, labels, tokenizer):\n",
        "        self.texts = texts\n",
        "        self.labels = labels\n",
        "        self.tokenizer = tokenizer\n",
        "    def __len__(self):\n",
        "        return len(self.texts)\n",
        "    def __getitem__(self, idx):\n",
        "        text = self.texts[idx]\n",
        "        label = self.labels[idx]\n",
        "        encoding = self.tokenizer(text, return_tensors='pt', max_length=130, padding='max_length', truncation=True)\n",
        "        return {'input_ids': encoding['input_ids'].flatten(), 'attention_mask': encoding['attention_mask'].flatten(), 'labels': torch.tensor(label)}"
      ],
      "id": "iEQB1zj7EIQY"
    },
    {
      "cell_type": "code",
      "execution_count": null,
      "metadata": {
        "colab": {
          "base_uri": "https://localhost:8080/"
        },
        "id": "rJLadSAR7jBZ",
        "outputId": "04f2c5d9-1948-441c-db2a-4f8f171ef5d9"
      },
      "outputs": [
        {
          "output_type": "execute_result",
          "data": {
            "text/plain": [
              "array([ 3,  0, 11,  4, 12,  6,  2, 10,  5,  8,  1,  7,  9])"
            ]
          },
          "metadata": {},
          "execution_count": 35
        }
      ],
      "source": [
        "Y_train.unique()"
      ],
      "id": "rJLadSAR7jBZ"
    },
    {
      "cell_type": "code",
      "execution_count": null,
      "metadata": {
        "id": "DZiEcu6MBLdN",
        "colab": {
          "base_uri": "https://localhost:8080/",
          "height": 81,
          "referenced_widgets": [
            "4acdc64c2cc440288a3c8dbcc69f9bc6",
            "0936a0ab06fb4eb0a16df285d1f7eae5",
            "c0eeae613ff84e748c0c55aff0410d18",
            "1e283caa9299482f8d1a784544e63c08",
            "57ad61264a6b4b6d9a4f6434d7713e71",
            "41ea42324bab42deb9d437409c77bd7d",
            "6bb739d9898a425d8dbb3c1e17add571",
            "af897422b5744d83a6d85df761d78667",
            "faa17123c5984bc3bccd5c8ff537f35b",
            "845d2d6dcaaf462085bb67d712a0d5c8",
            "070da4a730144a70a6fbaf765e2c707f",
            "081ce01efcbf4ccea42fabbfd368dde3",
            "6c22e9ac838e4583bc3c5e36de1831ea",
            "8a79e8f11b544b5eaaee8856879a339b",
            "e9c94f9263e04d62aa16104649424139",
            "31010b2f38c34fa89705801d7d9c8791",
            "5f2e0c07ee4148fba7c25e398a7b000c",
            "1e992fc7a88a46e79c74b083de7b3cdf",
            "bf034956ce9b42729f97fbb4b72a1cb9",
            "08a4cc7c3e284c3b985f498327f4ff1b",
            "c982de4ddf0048a384cb7b80ed3767e6",
            "702ec648cb43484884c115f2796e5975"
          ]
        },
        "outputId": "294a35c4-d2dc-4f45-a57f-9e65ad6cdffb"
      },
      "outputs": [
        {
          "output_type": "display_data",
          "data": {
            "text/plain": [
              "config.json:   0%|          | 0.00/589 [00:00<?, ?B/s]"
            ],
            "application/vnd.jupyter.widget-view+json": {
              "version_major": 2,
              "version_minor": 0,
              "model_id": "4acdc64c2cc440288a3c8dbcc69f9bc6"
            }
          },
          "metadata": {}
        },
        {
          "output_type": "display_data",
          "data": {
            "text/plain": [
              "vocab.txt:   0%|          | 0.00/529k [00:00<?, ?B/s]"
            ],
            "application/vnd.jupyter.widget-view+json": {
              "version_major": 2,
              "version_minor": 0,
              "model_id": "081ce01efcbf4ccea42fabbfd368dde3"
            }
          },
          "metadata": {}
        }
      ],
      "source": [
        "tokenizer = AutoTokenizer.from_pretrained(model_name)"
      ],
      "id": "DZiEcu6MBLdN"
    },
    {
      "cell_type": "code",
      "execution_count": null,
      "metadata": {
        "id": "Qq31vDQ43SyI"
      },
      "outputs": [],
      "source": [
        "from transformers import get_scheduler"
      ],
      "id": "Qq31vDQ43SyI"
    },
    {
      "cell_type": "code",
      "execution_count": null,
      "metadata": {
        "id": "o7qRoHWF7D0-"
      },
      "outputs": [],
      "source": [
        "batch_size=128"
      ],
      "id": "o7qRoHWF7D0-"
    },
    {
      "cell_type": "code",
      "execution_count": null,
      "metadata": {
        "id": "4Pd1HKiqA6_m",
        "colab": {
          "base_uri": "https://localhost:8080/",
          "height": 104,
          "referenced_widgets": [
            "c1f2a6ddfcf24bf1b2cd83ba1a5a6cbc",
            "6477a2cba57e496488f4d5d94f6e2b74",
            "c083b895b9b843d5a6565bea8de45e4e",
            "f0f1ad9acbe948fa96e494601635d14b",
            "63d0581b2b074442aac73db258735f4f",
            "8187965756ac4a67ab505d4687ac74a6",
            "222fd6a9d96e4c17a4b4e8a4a3b19126",
            "340c88e4997e4affa2845f7d358e0e89",
            "f2ec1a9a1e1443ffa78ec757c09c9073",
            "6e8c4dcac4df4aa0a4d2673a9a87a885",
            "fcb63dfd221241d88210fd848cb2f3bb"
          ]
        },
        "outputId": "2c4580c9-720e-447d-e13f-6c289df526f6"
      },
      "outputs": [
        {
          "output_type": "display_data",
          "data": {
            "text/plain": [
              "pytorch_model.bin:   0%|          | 0.00/438M [00:00<?, ?B/s]"
            ],
            "application/vnd.jupyter.widget-view+json": {
              "version_major": 2,
              "version_minor": 0,
              "model_id": "c1f2a6ddfcf24bf1b2cd83ba1a5a6cbc"
            }
          },
          "metadata": {}
        },
        {
          "output_type": "stream",
          "name": "stderr",
          "text": [
            "Some weights of BertForSequenceClassification were not initialized from the model checkpoint at Shushant/nepaliBERT and are newly initialized: ['bert.pooler.dense.weight', 'bert.pooler.dense.bias', 'classifier.bias', 'classifier.weight']\n",
            "You should probably TRAIN this model on a down-stream task to be able to use it for predictions and inference.\n"
          ]
        }
      ],
      "source": [
        "model = AutoModelForSequenceClassification.from_pretrained(model_name, num_labels=13, ignore_mismatched_sizes=True)"
      ],
      "id": "4Pd1HKiqA6_m"
    },
    {
      "cell_type": "code",
      "execution_count": null,
      "metadata": {
        "colab": {
          "base_uri": "https://localhost:8080/"
        },
        "id": "vN6-qfOa8n8C",
        "outputId": "2af4a477-230e-4c0a-9549-5085d0864258"
      },
      "outputs": [
        {
          "output_type": "stream",
          "name": "stdout",
          "text": [
            "BertForSequenceClassification(\n",
            "  (bert): BertModel(\n",
            "    (embeddings): BertEmbeddings(\n",
            "      (word_embeddings): Embedding(30522, 768, padding_idx=0)\n",
            "      (position_embeddings): Embedding(512, 768)\n",
            "      (token_type_embeddings): Embedding(2, 768)\n",
            "      (LayerNorm): LayerNorm((768,), eps=1e-12, elementwise_affine=True)\n",
            "      (dropout): Dropout(p=0.1, inplace=False)\n",
            "    )\n",
            "    (encoder): BertEncoder(\n",
            "      (layer): ModuleList(\n",
            "        (0-11): 12 x BertLayer(\n",
            "          (attention): BertAttention(\n",
            "            (self): BertSelfAttention(\n",
            "              (query): Linear(in_features=768, out_features=768, bias=True)\n",
            "              (key): Linear(in_features=768, out_features=768, bias=True)\n",
            "              (value): Linear(in_features=768, out_features=768, bias=True)\n",
            "              (dropout): Dropout(p=0.1, inplace=False)\n",
            "            )\n",
            "            (output): BertSelfOutput(\n",
            "              (dense): Linear(in_features=768, out_features=768, bias=True)\n",
            "              (LayerNorm): LayerNorm((768,), eps=1e-12, elementwise_affine=True)\n",
            "              (dropout): Dropout(p=0.1, inplace=False)\n",
            "            )\n",
            "          )\n",
            "          (intermediate): BertIntermediate(\n",
            "            (dense): Linear(in_features=768, out_features=3072, bias=True)\n",
            "            (intermediate_act_fn): GELUActivation()\n",
            "          )\n",
            "          (output): BertOutput(\n",
            "            (dense): Linear(in_features=3072, out_features=768, bias=True)\n",
            "            (LayerNorm): LayerNorm((768,), eps=1e-12, elementwise_affine=True)\n",
            "            (dropout): Dropout(p=0.1, inplace=False)\n",
            "          )\n",
            "        )\n",
            "      )\n",
            "    )\n",
            "    (pooler): BertPooler(\n",
            "      (dense): Linear(in_features=768, out_features=768, bias=True)\n",
            "      (activation): Tanh()\n",
            "    )\n",
            "  )\n",
            "  (dropout): Dropout(p=0.1, inplace=False)\n",
            "  (classifier): Linear(in_features=768, out_features=13, bias=True)\n",
            ")\n"
          ]
        }
      ],
      "source": [
        "print(model)"
      ],
      "id": "vN6-qfOa8n8C"
    },
    {
      "cell_type": "code",
      "execution_count": null,
      "metadata": {
        "id": "CxSYuT0A9AZn"
      },
      "outputs": [],
      "source": [
        "from torch.optim import AdamW\n",
        "optimizer = AdamW(model.parameters(), lr=5e-5)"
      ],
      "id": "CxSYuT0A9AZn"
    },
    {
      "cell_type": "code",
      "execution_count": null,
      "metadata": {
        "id": "MEAgbZu76Tz9"
      },
      "outputs": [],
      "source": [
        "train_dataset = NewsDataset(X_train.to_list(), Y_train.to_list(), tokenizer)\n",
        "val_dataset = NewsDataset(X_test.to_list(), Y_test.to_list(), tokenizer)\n",
        "train_loader = DataLoader(train_dataset, batch_size=batch_size, shuffle=True)\n",
        "val_loader = DataLoader(val_dataset, batch_size=batch_size)"
      ],
      "id": "MEAgbZu76Tz9"
    },
    {
      "cell_type": "code",
      "execution_count": null,
      "metadata": {
        "id": "0w3Wbl4r9F11"
      },
      "outputs": [],
      "source": [
        "from transformers import get_scheduler\n",
        "\n",
        "num_epochs = 3\n",
        "num_training_steps = num_epochs * len(train_loader)\n",
        "lr_scheduler = get_scheduler(\n",
        "    name=\"linear\", optimizer=optimizer, num_warmup_steps=0, num_training_steps=num_training_steps\n",
        ")"
      ],
      "id": "0w3Wbl4r9F11"
    },
    {
      "cell_type": "code",
      "execution_count": null,
      "metadata": {
        "colab": {
          "base_uri": "https://localhost:8080/"
        },
        "id": "dQed9H119RK8",
        "outputId": "5529fcaf-55b0-43e9-cdfb-94dc44ee6eeb"
      },
      "outputs": [
        {
          "output_type": "execute_result",
          "data": {
            "text/plain": [
              "BertForSequenceClassification(\n",
              "  (bert): BertModel(\n",
              "    (embeddings): BertEmbeddings(\n",
              "      (word_embeddings): Embedding(30522, 768, padding_idx=0)\n",
              "      (position_embeddings): Embedding(512, 768)\n",
              "      (token_type_embeddings): Embedding(2, 768)\n",
              "      (LayerNorm): LayerNorm((768,), eps=1e-12, elementwise_affine=True)\n",
              "      (dropout): Dropout(p=0.1, inplace=False)\n",
              "    )\n",
              "    (encoder): BertEncoder(\n",
              "      (layer): ModuleList(\n",
              "        (0-11): 12 x BertLayer(\n",
              "          (attention): BertAttention(\n",
              "            (self): BertSelfAttention(\n",
              "              (query): Linear(in_features=768, out_features=768, bias=True)\n",
              "              (key): Linear(in_features=768, out_features=768, bias=True)\n",
              "              (value): Linear(in_features=768, out_features=768, bias=True)\n",
              "              (dropout): Dropout(p=0.1, inplace=False)\n",
              "            )\n",
              "            (output): BertSelfOutput(\n",
              "              (dense): Linear(in_features=768, out_features=768, bias=True)\n",
              "              (LayerNorm): LayerNorm((768,), eps=1e-12, elementwise_affine=True)\n",
              "              (dropout): Dropout(p=0.1, inplace=False)\n",
              "            )\n",
              "          )\n",
              "          (intermediate): BertIntermediate(\n",
              "            (dense): Linear(in_features=768, out_features=3072, bias=True)\n",
              "            (intermediate_act_fn): GELUActivation()\n",
              "          )\n",
              "          (output): BertOutput(\n",
              "            (dense): Linear(in_features=3072, out_features=768, bias=True)\n",
              "            (LayerNorm): LayerNorm((768,), eps=1e-12, elementwise_affine=True)\n",
              "            (dropout): Dropout(p=0.1, inplace=False)\n",
              "          )\n",
              "        )\n",
              "      )\n",
              "    )\n",
              "    (pooler): BertPooler(\n",
              "      (dense): Linear(in_features=768, out_features=768, bias=True)\n",
              "      (activation): Tanh()\n",
              "    )\n",
              "  )\n",
              "  (dropout): Dropout(p=0.1, inplace=False)\n",
              "  (classifier): Linear(in_features=768, out_features=13, bias=True)\n",
              ")"
            ]
          },
          "metadata": {},
          "execution_count": 44
        }
      ],
      "source": [
        "import torch\n",
        "\n",
        "device = torch.device(\"cuda\") if torch.cuda.is_available() else torch.device(\"cpu\")\n",
        "model.to(device)"
      ],
      "id": "dQed9H119RK8"
    },
    {
      "cell_type": "code",
      "execution_count": null,
      "metadata": {
        "id": "tuBy6S8OzZIm"
      },
      "outputs": [],
      "source": [
        "def eval_loss(model, val_loader):\n",
        "    metric = evaluate.load(\"accuracy\")\n",
        "    model.eval()\n",
        "    total_loss = 0.0\n",
        "    for batch in val_loader:\n",
        "        batch = {k: v.to(device) for k, v in batch.items()}\n",
        "        with torch.no_grad():\n",
        "            outputs = model(**batch)\n",
        "\n",
        "        logits = outputs.logits\n",
        "        predictions = torch.argmax(logits, dim=-1)\n",
        "        metric.add_batch(predictions=predictions, references=batch[\"labels\"])\n",
        "        total_loss += outputs.loss.item()\n",
        "\n",
        "\n",
        "\n",
        "    return metric.compute()['accuracy'], total_loss/len(val_loader)"
      ],
      "id": "tuBy6S8OzZIm"
    },
    {
      "cell_type": "code",
      "execution_count": null,
      "metadata": {
        "colab": {
          "base_uri": "https://localhost:8080/",
          "height": 1000,
          "referenced_widgets": [
            "514af68806f04671bc5d6aa780c0a94c",
            "77fac2f0e03547c8998b88ad3e8b806e",
            "c214c20e1c0c4570b7559b34574b60b2",
            "08b9f58fcc454412846eae81b3ca3b59",
            "bf1270300dce433bbe6d9ff93702bd7a",
            "f7cd46549baa47c49387567b1eba7db8",
            "b458acb5493d45069a3c5f9e1635b20a",
            "4281a710c6c44fd2bb7b5b086db5fae3",
            "2cb2026b10de4ef5b063199750d7e2aa",
            "e3ce31f779874a1a8c3c836ffc924953",
            "e47803ac3e3e4c98b7051f8f4bf5ce33",
            "f8026f66ae224589a13d273bf67c7f28",
            "978925592dab4f5298550112cc6bf217",
            "e68d5f53078a40b7ace94f3a62e9c2e0",
            "0f974356641a4c75997ec510142de0d5",
            "81f5b45981e04b159cb42be2a742a2b0",
            "0d69fe4186cf4e22bdad4ee134f48ff2",
            "70cca5eb19704f1aaf8acc4e4324c1b2",
            "1e3616a54a784e5db0092f5989a950ea",
            "51c0a6e17c6a420db240bc3fba64fee3",
            "5bb1755c072d4d11927f0fb234bb28c8",
            "4039af0c900c4fb8ae8f4f3f308df111"
          ]
        },
        "id": "MHLOTaKU3cjv",
        "outputId": "d1e9f651-7a9d-4123-bee9-e06888c36485"
      },
      "outputs": [
        {
          "output_type": "display_data",
          "data": {
            "text/plain": [
              "  0%|          | 0/732 [00:00<?, ?it/s]"
            ],
            "application/vnd.jupyter.widget-view+json": {
              "version_major": 2,
              "version_minor": 0,
              "model_id": "514af68806f04671bc5d6aa780c0a94c"
            }
          },
          "metadata": {}
        },
        {
          "output_type": "display_data",
          "data": {
            "text/plain": [
              "Downloading builder script:   0%|          | 0.00/4.20k [00:00<?, ?B/s]"
            ],
            "application/vnd.jupyter.widget-view+json": {
              "version_major": 2,
              "version_minor": 0,
              "model_id": "f8026f66ae224589a13d273bf67c7f28"
            }
          },
          "metadata": {}
        },
        {
          "output_type": "stream",
          "name": "stdout",
          "text": [
            "Epoch 1/3 - Training Loss: 0.505139, Validation Loss: 0.341221, Training Acc: 0.8585492560287327, Validation Acc: 0.896870189840944, lr: 3.3333333333333335e-05\n",
            "Epoch 2/3 - Training Loss: 0.225382, Validation Loss: 0.295769, Training Acc: 0.9303488968701898, Validation Acc: 0.9089276552077988, lr: 1.6666666666666667e-05\n",
            "Epoch 3/3 - Training Loss: 0.146731, Validation Loss: 0.291860, Training Acc: 0.9566123653155464, Validation Acc: 0.9116213442791175, lr: 0.0\n"
          ]
        },
        {
          "output_type": "display_data",
          "data": {
            "text/plain": [
              "<Figure size 1000x600 with 1 Axes>"
            ],
            "image/png": "[encoded data removed]"
          },
          "metadata": {}
        },
        {
          "output_type": "display_data",
          "data": {
            "text/plain": [
              "<Figure size 1000x600 with 1 Axes>"
            ],
            "image/png": "[encoded data removed]"
          },
          "metadata": {}
        },
        {
          "output_type": "display_data",
          "data": {
            "text/plain": [
              "<Figure size 1000x600 with 1 Axes>"
            ],
            "image/png": "[encoded data removed]"
          },
          "metadata": {}
        },
        {
          "output_type": "display_data",
          "data": {
            "text/plain": [
              "<Figure size 1000x600 with 1 Axes>"
            ],
            "image/png": "[encoded data removed]"
          },
          "metadata": {}
        },
        {
          "output_type": "display_data",
          "data": {
            "text/plain": [
              "<Figure size 1000x600 with 1 Axes>"
            ],
            "image/png": "[encoded data removed]"
          },
          "metadata": {}
        },
        {
          "output_type": "display_data",
          "data": {
            "text/plain": [
              "<Figure size 1000x600 with 1 Axes>"
            ],
            "image/png": "[encoded data removed]"
          },
          "metadata": {}
        }
      ],
      "source": [
        "import matplotlib.pyplot as plt\n",
        "import numpy as np\n",
        "from tqdm.auto import tqdm\n",
        "import evaluate\n",
        "\n",
        "\n",
        "train_losses = []\n",
        "train_accuracies = []\n",
        "val_losses = []\n",
        "val_accuracies=[]\n",
        "epochs = []\n",
        "epoch_counter = 0\n",
        "\n",
        "progress_bar = tqdm(range(num_training_steps))\n",
        "\n",
        "for epoch in range(num_epochs):\n",
        "    model.train()\n",
        "    total_train_loss = 0.0\n",
        "    correct_train_predictions = 0\n",
        "    total_train_samples = 0\n",
        "    for batch in train_loader:\n",
        "        batch = {k: v.to(device) for k, v in batch.items()}\n",
        "        outputs = model(**batch)\n",
        "        loss = outputs.loss\n",
        "        logits = outputs.logits\n",
        "\n",
        "\n",
        "        # Calculate accuracy\n",
        "        _, predicted = torch.max(logits, 1)\n",
        "        correct_train_predictions += (predicted == batch[\"labels\"]).sum().item()\n",
        "        total_train_samples += batch[\"labels\"].size(0)\n",
        "\n",
        "\n",
        "        loss.backward()\n",
        "        optimizer.step()\n",
        "        lr_scheduler.step()\n",
        "        optimizer.zero_grad()\n",
        "        with torch.no_grad():\n",
        "            total_train_loss += loss.item()\n",
        "        progress_bar.update(1)\n",
        "\n",
        "\n",
        "\n",
        "    # Store the average training loss for the epoch\n",
        "    avg_train_loss = total_train_loss / len(train_loader)\n",
        "    train_accuracy = correct_train_predictions / total_train_samples\n",
        "    train_accuracies.append(train_accuracy)\n",
        "    train_losses.append(avg_train_loss)\n",
        "    epochs.append(epoch_counter)\n",
        "    epoch_counter += 1\n",
        "    val_acc, val_loss = eval_loss(model, val_loader)\n",
        "    val_losses.append(val_loss)\n",
        "    val_accuracies.append(val_acc)\n",
        "\n",
        "    # Print losses for each epoch\n",
        "    print(f\"Epoch {epoch + 1}/{num_epochs} - Training Loss: {avg_train_loss:.6f}, Validation Loss: {val_loss:.6f}, Training Acc: {train_accuracy}, Validation Acc: {val_acc}, lr: {optimizer.param_groups[0]['lr']}\")\n",
        "    # lr_scheduler.step()\n",
        "\n",
        "# Plot training loss\n",
        "plt.figure(figsize=(10, 6))\n",
        "plt.plot(epochs, train_losses, label=\"Training Loss\")\n",
        "plt.xlabel(\"Epochs\")\n",
        "plt.ylabel(\"Loss\")\n",
        "plt.title(\"Training Loss Curve\")\n",
        "plt.legend()\n",
        "plt.show()\n",
        "\n",
        "# Plot validation loss\n",
        "plt.figure(figsize=(10, 6))\n",
        "plt.plot(epochs, val_losses, label=\"Validation Loss\", color='orange')\n",
        "plt.xlabel(\"Epochs\")\n",
        "plt.ylabel(\"Loss\")\n",
        "plt.title(\"Validation Loss Curve\")\n",
        "plt.legend()\n",
        "plt.show()\n",
        "\n",
        "# Plot both training and validation losses in the same figure\n",
        "plt.figure(figsize=(10, 6))\n",
        "plt.plot(epochs, train_losses, label=\"Training Loss\")\n",
        "plt.plot(epochs, val_losses, label=\"Validation Loss\", color='orange')\n",
        "plt.xlabel(\"Epochs\")\n",
        "plt.ylabel(\"Loss\")\n",
        "plt.title(\"Training and Validation Loss Curves\")\n",
        "plt.legend()\n",
        "plt.show()\n",
        "\n",
        "# Plot validation accuracy\n",
        "plt.figure(figsize=(10, 6))\n",
        "plt.plot(epochs, val_accuracies, label=\"Validation Accuracies\")\n",
        "plt.xlabel(\"Epochs\")\n",
        "plt.ylabel(\"Accuracy\")\n",
        "plt.title(\"Validation Accuracy Curve\")\n",
        "plt.legend()\n",
        "plt.show()\n",
        "\n",
        "# Plot training accuracy\n",
        "plt.figure(figsize=(10, 6))\n",
        "plt.plot(epochs, train_accuracies, label=\"Training Accuracies\", color='orange')\n",
        "plt.xlabel(\"Epochs\")\n",
        "plt.ylabel(\"Accuracy\")\n",
        "plt.title(\"Validation Accuracy Curve\")\n",
        "plt.legend()\n",
        "plt.show()\n",
        "\n",
        "\n",
        "\n",
        "# Plot both training and validation accuracies in the same figure\n",
        "plt.figure(figsize=(10, 6))\n",
        "plt.plot(epochs, train_accuracies, label=\"Training Accuracy\")\n",
        "plt.plot(epochs, val_accuracies, label=\"Validation Accuracy\", color='orange')\n",
        "plt.xlabel(\"Epochs\")\n",
        "plt.ylabel(\"Accuracies\")\n",
        "plt.title(\"Training and Validation Accuracies Curves\")\n",
        "plt.legend()\n",
        "plt.show()\n",
        "\n"
      ],
      "id": "MHLOTaKU3cjv"
    },
    {
      "cell_type": "code",
      "source": [
        "import datetime\n",
        "import pytz\n",
        "\n",
        "def get_cur_time():\n",
        "    np_tz=pytz.timezone('Asia/Kathmandu')\n",
        "    # np_tz.tzname()\n",
        "    utc_time=datetime.datetime.now()\n",
        "    return utc_time.astimezone(np_tz).isoformat().split('.')[0]\n",
        "# print(\"Local time {}\".format(utc_time.astimezone().isoformat()))\n"
      ],
      "metadata": {
        "id": "F-tgHvR3d_LX"
      },
      "id": "F-tgHvR3d_LX",
      "execution_count": null,
      "outputs": []
    },
    {
      "cell_type": "code",
      "source": [
        "cur_time = get_cur_time()\n",
        "model_name.replace('/','_') + 'finetuned_koshish_final'+'_' + cur_time"
      ],
      "metadata": {
        "id": "JYb461_WihbT",
        "colab": {
          "base_uri": "https://localhost:8080/",
          "height": 36
        },
        "outputId": "592c9ec2-b75c-4b61-b939-de549c9bd876"
      },
      "id": "JYb461_WihbT",
      "execution_count": null,
      "outputs": [
        {
          "output_type": "execute_result",
          "data": {
            "text/plain": [
              "'Shushant_nepaliBERTfinetuned_koshish_final_2024-02-12T08:41:57'"
            ],
            "application/vnd.google.colaboratory.intrinsic+json": {
              "type": "string"
            }
          },
          "metadata": {},
          "execution_count": 48
        }
      ]
    },
    {
      "cell_type": "code",
      "execution_count": null,
      "metadata": {
        "id": "e7HOpuzh7fLS",
        "colab": {
          "base_uri": "https://localhost:8080/"
        },
        "outputId": "2881a783-95cb-4392-837d-beddf51f66ba"
      },
      "outputs": [
        {
          "output_type": "execute_result",
          "data": {
            "text/plain": [
              "('/content/drive/MyDrive/sagar_classifier/models/Shushant_nepaliBERTfinetuned_koshish_final_2024-02-12T08:45:45/tokenizer_config.json',\n",
              " '/content/drive/MyDrive/sagar_classifier/models/Shushant_nepaliBERTfinetuned_koshish_final_2024-02-12T08:45:45/special_tokens_map.json',\n",
              " '/content/drive/MyDrive/sagar_classifier/models/Shushant_nepaliBERTfinetuned_koshish_final_2024-02-12T08:45:45/vocab.txt',\n",
              " '/content/drive/MyDrive/sagar_classifier/models/Shushant_nepaliBERTfinetuned_koshish_final_2024-02-12T08:45:45/added_tokens.json',\n",
              " '/content/drive/MyDrive/sagar_classifier/models/Shushant_nepaliBERTfinetuned_koshish_final_2024-02-12T08:45:45/tokenizer.json')"
            ]
          },
          "metadata": {},
          "execution_count": 49
        }
      ],
      "source": [
        "\n",
        "\n",
        "# Save the model\n",
        "# Assuming 'model' is your fine-tuned BERT model\n",
        "cur_time = get_cur_time()\n",
        "model_dir = model_name.replace('/','_') +'finetuned_koshish_final'+ '_' + cur_time\n",
        "# model.save_pretrained(\"/content/drive/MyDrive/fine_tuned_13cat_patrakar_model\")\n",
        "model.save_pretrained(f\"/content/drive/MyDrive/sagar_classifier/models/{model_dir}\")\n",
        "\n",
        "\n",
        "# Assuming 'tokenizer' is your BERT tokenizer\n",
        "# tokenizer.save_pretrained(\"/content/drive/MyDrive/fine_tuned_13cat_patrakar_model\")\n",
        "tokenizer.save_pretrained(f\"/content/drive/MyDrive/sagar_classifier/models/{model_dir}\")\n",
        "\n"
      ],
      "id": "e7HOpuzh7fLS"
    },
    {
      "cell_type": "code",
      "execution_count": null,
      "metadata": {
        "id": "gIIBFQ1cYbub"
      },
      "outputs": [],
      "source": [
        "X_test.shape"
      ],
      "id": "gIIBFQ1cYbub"
    },
    {
      "cell_type": "code",
      "source": [
        "X_test.head()"
      ],
      "metadata": {
        "id": "CSqLkLlpa-K9"
      },
      "id": "CSqLkLlpa-K9",
      "execution_count": null,
      "outputs": []
    },
    {
      "cell_type": "code",
      "source": [
        "Y_test.head()"
      ],
      "metadata": {
        "id": "hCbpWn1WVwAR"
      },
      "id": "hCbpWn1WVwAR",
      "execution_count": null,
      "outputs": []
    },
    {
      "cell_type": "code",
      "source": [
        "sum(Y_test == 14)"
      ],
      "metadata": {
        "id": "Y03IEZXzVDjB"
      },
      "id": "Y03IEZXzVDjB",
      "execution_count": null,
      "outputs": []
    },
    {
      "cell_type": "code",
      "source": [
        "from os import path\n"
      ],
      "metadata": {
        "id": "zhU78a77YZwN"
      },
      "id": "zhU78a77YZwN",
      "execution_count": null,
      "outputs": []
    },
    {
      "cell_type": "code",
      "source": [
        "trained_model_dir = '/content/drive/MyDrive/sagar_classifier/models/Shushant_nepaliBERTfinetuned_koshish_final_2024-02-12T08:45:45'"
      ],
      "metadata": {
        "id": "RDQWDp4XSZz3"
      },
      "id": "RDQWDp4XSZz3",
      "execution_count": null,
      "outputs": []
    },
    {
      "cell_type": "code",
      "source": [
        "test_model = AutoModelForSequenceClassification.from_pretrained(trained_model_dir)"
      ],
      "metadata": {
        "id": "sZcE0xMwX5zj"
      },
      "id": "sZcE0xMwX5zj",
      "execution_count": null,
      "outputs": []
    },
    {
      "cell_type": "code",
      "source": [
        "test_tokenizer = AutoTokenizer.from_pretrained(trained_model_dir)"
      ],
      "metadata": {
        "id": "mn2jmbHSaucW"
      },
      "id": "mn2jmbHSaucW",
      "execution_count": null,
      "outputs": []
    },
    {
      "cell_type": "code",
      "source": [
        "!pip install evaluate"
      ],
      "metadata": {
        "id": "eyr_5_M1OTCF"
      },
      "id": "eyr_5_M1OTCF",
      "execution_count": null,
      "outputs": []
    },
    {
      "cell_type": "code",
      "source": [
        "\n",
        "import evaluate\n",
        "import torch\n",
        "device = torch.device(\"cuda\") if torch.cuda.is_available() else torch.device(\"cpu\")\n",
        "test_model.to(device)"
      ],
      "metadata": {
        "id": "wggBAyG4ckMc",
        "colab": {
          "base_uri": "https://localhost:8080/"
        },
        "outputId": "d1a48afe-f753-4cae-96b1-7297ffe5116b"
      },
      "id": "wggBAyG4ckMc",
      "execution_count": null,
      "outputs": [
        {
          "output_type": "execute_result",
          "data": {
            "text/plain": [
              "BertForSequenceClassification(\n",
              "  (bert): BertModel(\n",
              "    (embeddings): BertEmbeddings(\n",
              "      (word_embeddings): Embedding(30522, 768, padding_idx=0)\n",
              "      (position_embeddings): Embedding(512, 768)\n",
              "      (token_type_embeddings): Embedding(2, 768)\n",
              "      (LayerNorm): LayerNorm((768,), eps=1e-12, elementwise_affine=True)\n",
              "      (dropout): Dropout(p=0.1, inplace=False)\n",
              "    )\n",
              "    (encoder): BertEncoder(\n",
              "      (layer): ModuleList(\n",
              "        (0-11): 12 x BertLayer(\n",
              "          (attention): BertAttention(\n",
              "            (self): BertSelfAttention(\n",
              "              (query): Linear(in_features=768, out_features=768, bias=True)\n",
              "              (key): Linear(in_features=768, out_features=768, bias=True)\n",
              "              (value): Linear(in_features=768, out_features=768, bias=True)\n",
              "              (dropout): Dropout(p=0.1, inplace=False)\n",
              "            )\n",
              "            (output): BertSelfOutput(\n",
              "              (dense): Linear(in_features=768, out_features=768, bias=True)\n",
              "              (LayerNorm): LayerNorm((768,), eps=1e-12, elementwise_affine=True)\n",
              "              (dropout): Dropout(p=0.1, inplace=False)\n",
              "            )\n",
              "          )\n",
              "          (intermediate): BertIntermediate(\n",
              "            (dense): Linear(in_features=768, out_features=3072, bias=True)\n",
              "            (intermediate_act_fn): GELUActivation()\n",
              "          )\n",
              "          (output): BertOutput(\n",
              "            (dense): Linear(in_features=3072, out_features=768, bias=True)\n",
              "            (LayerNorm): LayerNorm((768,), eps=1e-12, elementwise_affine=True)\n",
              "            (dropout): Dropout(p=0.1, inplace=False)\n",
              "          )\n",
              "        )\n",
              "      )\n",
              "    )\n",
              "    (pooler): BertPooler(\n",
              "      (dense): Linear(in_features=768, out_features=768, bias=True)\n",
              "      (activation): Tanh()\n",
              "    )\n",
              "  )\n",
              "  (dropout): Dropout(p=0.1, inplace=False)\n",
              "  (classifier): Linear(in_features=768, out_features=13, bias=True)\n",
              ")"
            ]
          },
          "metadata": {},
          "execution_count": 54
        }
      ]
    },
    {
      "cell_type": "code",
      "source": [
        "category[category.target==0].label.iloc[0]"
      ],
      "metadata": {
        "id": "_BFJAuv1dzPI",
        "colab": {
          "base_uri": "https://localhost:8080/",
          "height": 36
        },
        "outputId": "04b8c743-284f-45eb-d707-be94cb56d642"
      },
      "id": "_BFJAuv1dzPI",
      "execution_count": null,
      "outputs": [
        {
          "output_type": "execute_result",
          "data": {
            "text/plain": [
              "'Education'"
            ],
            "application/vnd.google.colaboratory.intrinsic+json": {
              "type": "string"
            }
          },
          "metadata": {},
          "execution_count": 55
        }
      ]
    },
    {
      "cell_type": "code",
      "source": [
        "df[[\"preprocessed_text\",\"category\"]].groupby(\"category\").count()"
      ],
      "metadata": {
        "id": "qXkQxuAMfzgM",
        "colab": {
          "base_uri": "https://localhost:8080/",
          "height": 488
        },
        "outputId": "0a38b9c9-ccf2-4a34-a769-fef664f3a957"
      },
      "id": "qXkQxuAMfzgM",
      "execution_count": null,
      "outputs": [
        {
          "output_type": "execute_result",
          "data": {
            "text/plain": [
              "               preprocessed_text\n",
              "category                        \n",
              "Automobile                  2999\n",
              "Business                    3000\n",
              "Crime                       2999\n",
              "Education                   3000\n",
              "Entertainment               3000\n",
              "Health                      3000\n",
              "Literature                  3000\n",
              "Market                      3000\n",
              "Politics                    3000\n",
              "Sports                      3000\n",
              "Technology                  2998\n",
              "Tourism                     2984\n",
              "World                       3000"
            ],
            "text/html": [
              "\n",
              "  <div id=\"df-c11c8f4d-ac69-4b10-a763-91e08f9220ab\" class=\"colab-df-container\">\n",
              "    <div>\n",
              "<style scoped>\n",
              "    .dataframe tbody tr th:only-of-type {\n",
              "        vertical-align: middle;\n",
              "    }\n",
              "\n",
              "    .dataframe tbody tr th {\n",
              "        vertical-align: top;\n",
              "    }\n",
              "\n",
              "    .dataframe thead th {\n",
              "        text-align: right;\n",
              "    }\n",
              "</style>\n",
              "<table border=\"1\" class=\"dataframe\">\n",
              "  <thead>\n",
              "    <tr style=\"text-align: right;\">\n",
              "      <th></th>\n",
              "      <th>preprocessed_text</th>\n",
              "    </tr>\n",
              "    <tr>\n",
              "      <th>category</th>\n",
              "      <th></th>\n",
              "    </tr>\n",
              "  </thead>\n",
              "  <tbody>\n",
              "    <tr>\n",
              "      <th>Automobile</th>\n",
              "      <td>2999</td>\n",
              "    </tr>\n",
              "    <tr>\n",
              "      <th>Business</th>\n",
              "      <td>3000</td>\n",
              "    </tr>\n",
              "    <tr>\n",
              "      <th>Crime</th>\n",
              "      <td>2999</td>\n",
              "    </tr>\n",
              "    <tr>\n",
              "      <th>Education</th>\n",
              "      <td>3000</td>\n",
              "    </tr>\n",
              "    <tr>\n",
              "      <th>Entertainment</th>\n",
              "      <td>3000</td>\n",
              "    </tr>\n",
              "    <tr>\n",
              "      <th>Health</th>\n",
              "      <td>3000</td>\n",
              "    </tr>\n",
              "    <tr>\n",
              "      <th>Literature</th>\n",
              "      <td>3000</td>\n",
              "    </tr>\n",
              "    <tr>\n",
              "      <th>Market</th>\n",
              "      <td>3000</td>\n",
              "    </tr>\n",
              "    <tr>\n",
              "      <th>Politics</th>\n",
              "      <td>3000</td>\n",
              "    </tr>\n",
              "    <tr>\n",
              "      <th>Sports</th>\n",
              "      <td>3000</td>\n",
              "    </tr>\n",
              "    <tr>\n",
              "      <th>Technology</th>\n",
              "      <td>2998</td>\n",
              "    </tr>\n",
              "    <tr>\n",
              "      <th>Tourism</th>\n",
              "      <td>2984</td>\n",
              "    </tr>\n",
              "    <tr>\n",
              "      <th>World</th>\n",
              "      <td>3000</td>\n",
              "    </tr>\n",
              "  </tbody>\n",
              "</table>\n",
              "</div>\n",
              "    <div class=\"colab-df-buttons\">\n",
              "\n",
              "  <div class=\"colab-df-container\">\n",
              "    <button class=\"colab-df-convert\" onclick=\"convertToInteractive('df-c11c8f4d-ac69-4b10-a763-91e08f9220ab')\"\n",
              "            title=\"Convert this dataframe to an interactive table.\"\n",
              "            style=\"display:none;\">\n",
              "\n",
              "  <svg xmlns=\"http://www.w3.org/2000/svg\" height=\"24px\" viewBox=\"0 -960 960 960\">\n",
              "    <path d=\"M120-120v-720h720v720H120Zm60-500h600v-160H180v160Zm220 220h160v-160H400v160Zm0 220h160v-160H400v160ZM180-400h160v-160H180v160Zm440 0h160v-160H620v160ZM180-180h160v-160H180v160Zm440 0h160v-160H620v160Z\"/>\n",
              "  </svg>\n",
              "    </button>\n",
              "\n",
              "  <style>\n",
              "    .colab-df-container {\n",
              "      display:flex;\n",
              "      gap: 12px;\n",
              "    }\n",
              "\n",
              "    .colab-df-convert {\n",
              "      background-color: #E8F0FE;\n",
              "      border: none;\n",
              "      border-radius: 50%;\n",
              "      cursor: pointer;\n",
              "      display: none;\n",
              "      fill: #1967D2;\n",
              "      height: 32px;\n",
              "      padding: 0 0 0 0;\n",
              "      width: 32px;\n",
              "    }\n",
              "\n",
              "    .colab-df-convert:hover {\n",
              "      background-color: #E2EBFA;\n",
              "      box-shadow: 0px 1px 2px rgba(60, 64, 67, 0.3), 0px 1px 3px 1px rgba(60, 64, 67, 0.15);\n",
              "      fill: #174EA6;\n",
              "    }\n",
              "\n",
              "    .colab-df-buttons div {\n",
              "      margin-bottom: 4px;\n",
              "    }\n",
              "\n",
              "    [theme=dark] .colab-df-convert {\n",
              "      background-color: #3B4455;\n",
              "      fill: #D2E3FC;\n",
              "    }\n",
              "\n",
              "    [theme=dark] .colab-df-convert:hover {\n",
              "      background-color: #434B5C;\n",
              "      box-shadow: 0px 1px 3px 1px rgba(0, 0, 0, 0.15);\n",
              "      filter: drop-shadow(0px 1px 2px rgba(0, 0, 0, 0.3));\n",
              "      fill: #FFFFFF;\n",
              "    }\n",
              "  </style>\n",
              "\n",
              "    <script>\n",
              "      const buttonEl =\n",
              "        document.querySelector('#df-c11c8f4d-ac69-4b10-a763-91e08f9220ab button.colab-df-convert');\n",
              "      buttonEl.style.display =\n",
              "        google.colab.kernel.accessAllowed ? 'block' : 'none';\n",
              "\n",
              "      async function convertToInteractive(key) {\n",
              "        const element = document.querySelector('#df-c11c8f4d-ac69-4b10-a763-91e08f9220ab');\n",
              "        const dataTable =\n",
              "          await google.colab.kernel.invokeFunction('convertToInteractive',\n",
              "                                                    [key], {});\n",
              "        if (!dataTable) return;\n",
              "\n",
              "        const docLinkHtml = 'Like what you see? Visit the ' +\n",
              "          '<a target=\"_blank\" href=https://colab.research.google.com/notebooks/data_table.ipynb>data table notebook</a>'\n",
              "          + ' to learn more about interactive tables.';\n",
              "        element.innerHTML = '';\n",
              "        dataTable['output_type'] = 'display_data';\n",
              "        await google.colab.output.renderOutput(dataTable, element);\n",
              "        const docLink = document.createElement('div');\n",
              "        docLink.innerHTML = docLinkHtml;\n",
              "        element.appendChild(docLink);\n",
              "      }\n",
              "    </script>\n",
              "  </div>\n",
              "\n",
              "\n",
              "<div id=\"df-dfde3d78-3064-4a46-b9f7-3b7db62a9d1e\">\n",
              "  <button class=\"colab-df-quickchart\" onclick=\"quickchart('df-dfde3d78-3064-4a46-b9f7-3b7db62a9d1e')\"\n",
              "            title=\"Suggest charts\"\n",
              "            style=\"display:none;\">\n",
              "\n",
              "<svg xmlns=\"http://www.w3.org/2000/svg\" height=\"24px\"viewBox=\"0 0 24 24\"\n",
              "     width=\"24px\">\n",
              "    <g>\n",
              "        <path d=\"M19 3H5c-1.1 0-2 .9-2 2v14c0 1.1.9 2 2 2h14c1.1 0 2-.9 2-2V5c0-1.1-.9-2-2-2zM9 17H7v-7h2v7zm4 0h-2V7h2v10zm4 0h-2v-4h2v4z\"/>\n",
              "    </g>\n",
              "</svg>\n",
              "  </button>\n",
              "\n",
              "<style>\n",
              "  .colab-df-quickchart {\n",
              "      --bg-color: #E8F0FE;\n",
              "      --fill-color: #1967D2;\n",
              "      --hover-bg-color: #E2EBFA;\n",
              "      --hover-fill-color: #174EA6;\n",
              "      --disabled-fill-color: #AAA;\n",
              "      --disabled-bg-color: #DDD;\n",
              "  }\n",
              "\n",
              "  [theme=dark] .colab-df-quickchart {\n",
              "      --bg-color: #3B4455;\n",
              "      --fill-color: #D2E3FC;\n",
              "      --hover-bg-color: #434B5C;\n",
              "      --hover-fill-color: #FFFFFF;\n",
              "      --disabled-bg-color: #3B4455;\n",
              "      --disabled-fill-color: #666;\n",
              "  }\n",
              "\n",
              "  .colab-df-quickchart {\n",
              "    background-color: var(--bg-color);\n",
              "    border: none;\n",
              "    border-radius: 50%;\n",
              "    cursor: pointer;\n",
              "    display: none;\n",
              "    fill: var(--fill-color);\n",
              "    height: 32px;\n",
              "    padding: 0;\n",
              "    width: 32px;\n",
              "  }\n",
              "\n",
              "  .colab-df-quickchart:hover {\n",
              "    background-color: var(--hover-bg-color);\n",
              "    box-shadow: 0 1px 2px rgba(60, 64, 67, 0.3), 0 1px 3px 1px rgba(60, 64, 67, 0.15);\n",
              "    fill: var(--button-hover-fill-color);\n",
              "  }\n",
              "\n",
              "  .colab-df-quickchart-complete:disabled,\n",
              "  .colab-df-quickchart-complete:disabled:hover {\n",
              "    background-color: var(--disabled-bg-color);\n",
              "    fill: var(--disabled-fill-color);\n",
              "    box-shadow: none;\n",
              "  }\n",
              "\n",
              "  .colab-df-spinner {\n",
              "    border: 2px solid var(--fill-color);\n",
              "    border-color: transparent;\n",
              "    border-bottom-color: var(--fill-color);\n",
              "    animation:\n",
              "      spin 1s steps(1) infinite;\n",
              "  }\n",
              "\n",
              "  @keyframes spin {\n",
              "    0% {\n",
              "      border-color: transparent;\n",
              "      border-bottom-color: var(--fill-color);\n",
              "      border-left-color: var(--fill-color);\n",
              "    }\n",
              "    20% {\n",
              "      border-color: transparent;\n",
              "      border-left-color: var(--fill-color);\n",
              "      border-top-color: var(--fill-color);\n",
              "    }\n",
              "    30% {\n",
              "      border-color: transparent;\n",
              "      border-left-color: var(--fill-color);\n",
              "      border-top-color: var(--fill-color);\n",
              "      border-right-color: var(--fill-color);\n",
              "    }\n",
              "    40% {\n",
              "      border-color: transparent;\n",
              "      border-right-color: var(--fill-color);\n",
              "      border-top-color: var(--fill-color);\n",
              "    }\n",
              "    60% {\n",
              "      border-color: transparent;\n",
              "      border-right-color: var(--fill-color);\n",
              "    }\n",
              "    80% {\n",
              "      border-color: transparent;\n",
              "      border-right-color: var(--fill-color);\n",
              "      border-bottom-color: var(--fill-color);\n",
              "    }\n",
              "    90% {\n",
              "      border-color: transparent;\n",
              "      border-bottom-color: var(--fill-color);\n",
              "    }\n",
              "  }\n",
              "</style>\n",
              "\n",
              "  <script>\n",
              "    async function quickchart(key) {\n",
              "      const quickchartButtonEl =\n",
              "        document.querySelector('#' + key + ' button');\n",
              "      quickchartButtonEl.disabled = true;  // To prevent multiple clicks.\n",
              "      quickchartButtonEl.classList.add('colab-df-spinner');\n",
              "      try {\n",
              "        const charts = await google.colab.kernel.invokeFunction(\n",
              "            'suggestCharts', [key], {});\n",
              "      } catch (error) {\n",
              "        console.error('Error during call to suggestCharts:', error);\n",
              "      }\n",
              "      quickchartButtonEl.classList.remove('colab-df-spinner');\n",
              "      quickchartButtonEl.classList.add('colab-df-quickchart-complete');\n",
              "    }\n",
              "    (() => {\n",
              "      let quickchartButtonEl =\n",
              "        document.querySelector('#df-dfde3d78-3064-4a46-b9f7-3b7db62a9d1e button');\n",
              "      quickchartButtonEl.style.display =\n",
              "        google.colab.kernel.accessAllowed ? 'block' : 'none';\n",
              "    })();\n",
              "  </script>\n",
              "</div>\n",
              "\n",
              "    </div>\n",
              "  </div>\n"
            ]
          },
          "metadata": {},
          "execution_count": 56
        }
      ]
    },
    {
      "cell_type": "code",
      "source": [
        "Y_test.unique().count()"
      ],
      "metadata": {
        "id": "HXy_KAKigEp9",
        "colab": {
          "base_uri": "https://localhost:8080/",
          "height": 175
        },
        "outputId": "109d0511-7e2f-42ff-9fb1-e3123c42cf34"
      },
      "id": "HXy_KAKigEp9",
      "execution_count": null,
      "outputs": [
        {
          "output_type": "error",
          "ename": "AttributeError",
          "evalue": "'numpy.ndarray' object has no attribute 'count'",
          "traceback": [
            "\u001b[0;31m---------------------------------------------------------------------------\u001b[0m",
            "\u001b[0;31mAttributeError\u001b[0m                            Traceback (most recent call last)",
            "\u001b[0;32m<ipython-input-57-c3a2b95e40b5>\u001b[0m in \u001b[0;36m<cell line: 1>\u001b[0;34m()\u001b[0m\n\u001b[0;32m----> 1\u001b[0;31m \u001b[0mY_test\u001b[0m\u001b[0;34m.\u001b[0m\u001b[0munique\u001b[0m\u001b[0;34m(\u001b[0m\u001b[0;34m)\u001b[0m\u001b[0;34m.\u001b[0m\u001b[0mcount\u001b[0m\u001b[0;34m(\u001b[0m\u001b[0;34m)\u001b[0m\u001b[0;34m\u001b[0m\u001b[0;34m\u001b[0m\u001b[0m\n\u001b[0m",
            "\u001b[0;31mAttributeError\u001b[0m: 'numpy.ndarray' object has no attribute 'count'"
          ]
        }
      ]
    },
    {
      "cell_type": "code",
      "source": [
        "accuracy=eval_loss(test_model,val_loader)\n",
        "print(\"Accuracy is :\" , accuracy[0] * 100)"
      ],
      "metadata": {
        "id": "lKmHwT9gnl-P",
        "colab": {
          "base_uri": "https://localhost:8080/"
        },
        "outputId": "3a71f687-4966-416c-fe24-eed496a283f0"
      },
      "id": "lKmHwT9gnl-P",
      "execution_count": null,
      "outputs": [
        {
          "output_type": "stream",
          "name": "stdout",
          "text": [
            "Accuracy is : 91.16213442791175\n"
          ]
        }
      ]
    },
    {
      "cell_type": "code",
      "source": [
        "print('***Checking the accuracy of each category ***')\n",
        "for cat in category.target:\n",
        "    Y_cat_ids = (Y_test == cat)\n",
        "    Y_test_cat = Y_test[Y_cat_ids]\n",
        "    X_test_cat = X_test[Y_cat_ids]\n",
        "    val_dataset = NewsDataset(X_test_cat.to_list(), Y_test_cat.to_list(), test_tokenizer)\n",
        "    val_loader = DataLoader(val_dataset, batch_size=batch_size)\n",
        "    acc, _ = eval_loss(test_model, val_loader)\n",
        "    print(f'Category: {category[category.target==cat].label.iloc[0]} has accuracy: {acc * 100} ')\n",
        "    # break\n",
        "\n"
      ],
      "metadata": {
        "id": "H7TiUiH_UXyE",
        "colab": {
          "base_uri": "https://localhost:8080/"
        },
        "outputId": "ca3d3a09-5653-44ce-fd47-4e6d554cb20c"
      },
      "id": "H7TiUiH_UXyE",
      "execution_count": null,
      "outputs": [
        {
          "output_type": "stream",
          "name": "stdout",
          "text": [
            "***Checking the accuracy of each category ***\n",
            "Category: Education has accuracy: 95.84717607973423 \n",
            "Category: World has accuracy: 92.78688524590164 \n",
            "Category: Sports has accuracy: 98.56459330143541 \n",
            "Category: Technology has accuracy: 85.90831918505943 \n",
            "Category: Crime has accuracy: 96.37561779242174 \n",
            "Category: Health has accuracy: 92.93103448275862 \n",
            "Category: Market has accuracy: 90.67796610169492 \n",
            "Category: Politics has accuracy: 93.01948051948052 \n",
            "Category: Automobile has accuracy: 92.72097053726169 \n",
            "Category: Tourism has accuracy: 92.99145299145299 \n",
            "Category: Literature has accuracy: 82.78260869565217 \n",
            "Category: Entertainment has accuracy: 88.24476650563608 \n",
            "Category: Business has accuracy: 81.84764991896273 \n"
          ]
        }
      ]
    },
    {
      "cell_type": "code",
      "execution_count": null,
      "metadata": {
        "id": "-1f0kiD8NAtD",
        "colab": {
          "base_uri": "https://localhost:8080/"
        },
        "outputId": "1340f783-4e47-4731-8fd6-58f1dd247f4f"
      },
      "outputs": [
        {
          "output_type": "stream",
          "name": "stdout",
          "text": [
            "Accuracy: 91.16213442791175\n",
            "Precision: 0.9118171493926563\n",
            "Recall: 0.9116213442791175\n",
            "F1 Score: 0.9113949489751988\n"
          ]
        }
      ],
      "source": [
        "from sklearn.metrics import accuracy_score, precision_score, recall_score, f1_score, confusion_matrix\n",
        "import seaborn as sns\n",
        "import matplotlib.pyplot as plt\n",
        "import numpy as np\n",
        "\n",
        "accuracy = accuracy_score(y_true, y_pred)\n",
        "precision = precision_score(y_true, y_pred, average='weighted')\n",
        "recall = recall_score(y_true, y_pred, average='weighted')\n",
        "f1 = f1_score(y_true, y_pred, average='weighted')\n",
        "conf_matrix = confusion_matrix(y_true, y_pred)\n",
        "print(\"Accuracy:\", accuracy * 100)\n",
        "print(\"Precision:\", precision)\n",
        "print(\"Recall:\", recall)\n",
        "print(\"F1 Score:\", f1)"
      ],
      "id": "-1f0kiD8NAtD"
    },
    {
      "cell_type": "code",
      "execution_count": null,
      "metadata": {
        "id": "T6ik8noO7EOG",
        "colab": {
          "base_uri": "https://localhost:8080/"
        },
        "outputId": "a8ea6d76-992a-4250-ad70-13a15de3312d"
      },
      "outputs": [
        {
          "output_type": "stream",
          "name": "stdout",
          "text": [
            "{'accuracy': 0.9116213442791175}\n"
          ]
        }
      ],
      "source": [
        "import torch\n",
        "import numpy as np\n",
        "\n",
        "# Assuming you have already imported the evaluate module correctly\n",
        "metric = evaluate.load(\"accuracy\")\n",
        "# Assuming test_model is your fine-tuned BERT model\n",
        "x=test_model.eval()\n",
        "\n",
        "\n",
        "y_true = []\n",
        "y_pred = []\n",
        "\n",
        "# Assuming val_loader is your DataLoader for the validation data\n",
        "num_val_batches = len(val_loader)\n",
        "\n",
        "# Iterate over the validation data\n",
        "for batch in val_loader:\n",
        "    batch = {k: v.to(device) for k, v in batch.items()}\n",
        "    with torch.no_grad():\n",
        "        outputs = test_model(**batch)\n",
        "\n",
        "    logits = outputs.logits\n",
        "    predictions = torch.argmax(logits, dim=-1)\n",
        "\n",
        "    # Assuming your evaluate module handles adding batches and references\n",
        "    metric.add_batch(predictions=predictions, references=batch[\"labels\"])\n",
        "\n",
        "    true_labels = batch[\"labels\"].cpu().numpy()\n",
        "    y_true.extend(true_labels)\n",
        "    y_pred.extend(predictions.cpu().numpy())\n",
        "\n",
        "# Assuming metric is an instance of the loaded evaluation metric\n",
        "# Assuming compute() method calculates the final metric value\n",
        "final_metric = metric.compute()\n",
        "print(final_metric)\n",
        "\n",
        "# Convert y_true and y_pred to numpy arrays\n",
        "y_true = np.array(y_true)\n",
        "y_pred = np.array(y_pred)\n",
        "\n",
        "# Now you can further analyze y_true and y_pred, or use them for other purposes\n"
      ],
      "id": "T6ik8noO7EOG"
    },
    {
      "cell_type": "code",
      "execution_count": null,
      "metadata": {
        "id": "R7A8pM5Auvb1"
      },
      "outputs": [],
      "source": [
        "print(len(predictions))"
      ],
      "id": "R7A8pM5Auvb1"
    },
    {
      "cell_type": "code",
      "execution_count": null,
      "metadata": {
        "id": "YEtZsIFCxWBc"
      },
      "outputs": [],
      "source": [
        "print(train_losses)"
      ],
      "id": "YEtZsIFCxWBc"
    },
    {
      "cell_type": "code",
      "execution_count": null,
      "metadata": {
        "id": "1zpGgLCxj6u3"
      },
      "outputs": [],
      "source": [
        "# Generate training steps for plotting\n",
        "training_steps = list(range(1, len(train_losses) + 1))\n",
        "# Plotting the training vs validation loss curve\n",
        "plt.plot(training_steps, train_losses, 'b-', label='Training Loss')\n",
        "plt.plot(training_steps[:len(val_losses)], val_losses, 'r-', label='Validation Loss')\n",
        "plt.title('Training vs Validation Loss')\n",
        "plt.xlabel('Training Steps')\n",
        "\n",
        "plt.ylabel('Loss')\n",
        "plt.legend()\n",
        "plt.show()\n",
        "\n"
      ],
      "id": "1zpGgLCxj6u3"
    },
    {
      "cell_type": "code",
      "execution_count": null,
      "metadata": {
        "id": "qKJmfMAnsbF5"
      },
      "outputs": [],
      "source": [
        "from sklearn.metrics import accuracy_score, precision_score, recall_score, f1_score, confusion_matrix\n",
        "import seaborn as sns\n",
        "import matplotlib.pyplot as plt\n",
        "import numpy as np"
      ],
      "id": "qKJmfMAnsbF5"
    },
    {
      "cell_type": "code",
      "execution_count": null,
      "metadata": {
        "id": "tlibUzrqs-Q4"
      },
      "outputs": [],
      "source": [
        "accuracy = accuracy_score(y_true, y_pred)\n",
        "precision = precision_score(y_true, y_pred, average='weighted')\n",
        "recall = recall_score(y_true, y_pred, average='weighted')\n",
        "f1 = f1_score(y_true, y_pred, average='weighted')\n",
        "conf_matrix = confusion_matrix(y_true, y_pred)\n",
        "print(\"Accuracy:\", accuracy * 100)\n",
        "print(\"Precision:\", precision)\n",
        "print(\"Recall:\", recall)\n",
        "print(\"F1 Score:\", f1)"
      ],
      "id": "tlibUzrqs-Q4"
    },
    {
      "cell_type": "code",
      "execution_count": null,
      "metadata": {
        "id": "YO4EgYKjx76o",
        "colab": {
          "base_uri": "https://localhost:8080/",
          "height": 650
        },
        "outputId": "fa0b3d07-076f-4937-c6ab-bfa6d6f9c7a7"
      },
      "outputs": [
        {
          "output_type": "display_data",
          "data": {
            "text/plain": [
              "<Figure size 800x600 with 2 Axes>"
            ],
            "image/png": "[encoded data removed]"
          },
          "metadata": {}
        }
      ],
      "source": [
        "plt.figure(figsize=(8, 6))\n",
        "sns.heatmap(conf_matrix, annot=True, fmt=\"d\", cmap=\"Blues\", xticklabels=classes, yticklabels=classes)\n",
        "plt.xlabel('Predicted')\n",
        "plt.ylabel('True')\n",
        "plt.title('Confusion Matrix')\n",
        "plt.show()"
      ],
      "id": "YO4EgYKjx76o"
    },
    {
      "cell_type": "code",
      "execution_count": null,
      "metadata": {
        "id": "krIRp5jlyA90"
      },
      "outputs": [],
      "source": [],
      "id": "krIRp5jlyA90"
    }
  ],
  "metadata": {
    "accelerator": "GPU",
    "colab": {
      "provenance": [],
      "gpuType": "T4"
    },
    "kernelspec": {
      "display_name": "Python 3",
      "name": "python3"
    },
    "language_info": {
      "codemirror_mode": {
        "name": "ipython",
        "version": 3
      },
      "file_extension": ".py",
      "mimetype": "text/x-python",
      "name": "python",
      "nbconvert_exporter": "python",
      "pygments_lexer": "ipython3",
      "version": "3.11.3"
    },
    "widgets": {
      "application/vnd.jupyter.widget-state+json": {
        "4acdc64c2cc440288a3c8dbcc69f9bc6": {
          "model_module": "@jupyter-widgets/controls",
          "model_name": "HBoxModel",
          "model_module_version": "1.5.0",
          "state": {
            "_dom_classes": [],
            "_model_module": "@jupyter-widgets/controls",
            "_model_module_version": "1.5.0",
            "_model_name": "HBoxModel",
            "_view_count": null,
            "_view_module": "@jupyter-widgets/controls",
            "_view_module_version": "1.5.0",
            "_view_name": "HBoxView",
            "box_style": "",
            "children": [
              "IPY_MODEL_0936a0ab06fb4eb0a16df285d1f7eae5",
              "IPY_MODEL_c0eeae613ff84e748c0c55aff0410d18",
              "IPY_MODEL_1e283caa9299482f8d1a784544e63c08"
            ],
            "layout": "IPY_MODEL_57ad61264a6b4b6d9a4f6434d7713e71"
          }
        },
        "0936a0ab06fb4eb0a16df285d1f7eae5": {
          "model_module": "@jupyter-widgets/controls",
          "model_name": "HTMLModel",
          "model_module_version": "1.5.0",
          "state": {
            "_dom_classes": [],
            "_model_module": "@jupyter-widgets/controls",
            "_model_module_version": "1.5.0",
            "_model_name": "HTMLModel",
            "_view_count": null,
            "_view_module": "@jupyter-widgets/controls",
            "_view_module_version": "1.5.0",
            "_view_name": "HTMLView",
            "description": "",
            "description_tooltip": null,
            "layout": "IPY_MODEL_41ea42324bab42deb9d437409c77bd7d",
            "placeholder": "​",
            "style": "IPY_MODEL_6bb739d9898a425d8dbb3c1e17add571",
            "value": "config.json: 100%"
          }
        },
        "c0eeae613ff84e748c0c55aff0410d18": {
          "model_module": "@jupyter-widgets/controls",
          "model_name": "FloatProgressModel",
          "model_module_version": "1.5.0",
          "state": {
            "_dom_classes": [],
            "_model_module": "@jupyter-widgets/controls",
            "_model_module_version": "1.5.0",
            "_model_name": "FloatProgressModel",
            "_view_count": null,
            "_view_module": "@jupyter-widgets/controls",
            "_view_module_version": "1.5.0",
            "_view_name": "ProgressView",
            "bar_style": "success",
            "description": "",
            "description_tooltip": null,
            "layout": "IPY_MODEL_af897422b5744d83a6d85df761d78667",
            "max": 589,
            "min": 0,
            "orientation": "horizontal",
            "style": "IPY_MODEL_faa17123c5984bc3bccd5c8ff537f35b",
            "value": 589
          }
        },
        "1e283caa9299482f8d1a784544e63c08": {
          "model_module": "@jupyter-widgets/controls",
          "model_name": "HTMLModel",
          "model_module_version": "1.5.0",
          "state": {
            "_dom_classes": [],
            "_model_module": "@jupyter-widgets/controls",
            "_model_module_version": "1.5.0",
            "_model_name": "HTMLModel",
            "_view_count": null,
            "_view_module": "@jupyter-widgets/controls",
            "_view_module_version": "1.5.0",
            "_view_name": "HTMLView",
            "description": "",
            "description_tooltip": null,
            "layout": "IPY_MODEL_845d2d6dcaaf462085bb67d712a0d5c8",
            "placeholder": "​",
            "style": "IPY_MODEL_070da4a730144a70a6fbaf765e2c707f",
            "value": " 589/589 [00:00&lt;00:00, 9.50kB/s]"
          }
        },
        "57ad61264a6b4b6d9a4f6434d7713e71": {
          "model_module": "@jupyter-widgets/base",
          "model_name": "LayoutModel",
          "model_module_version": "1.2.0",
          "state": {
            "_model_module": "@jupyter-widgets/base",
            "_model_module_version": "1.2.0",
            "_model_name": "LayoutModel",
            "_view_count": null,
            "_view_module": "@jupyter-widgets/base",
            "_view_module_version": "1.2.0",
            "_view_name": "LayoutView",
            "align_content": null,
            "align_items": null,
            "align_self": null,
            "border": null,
            "bottom": null,
            "display": null,
            "flex": null,
            "flex_flow": null,
            "grid_area": null,
            "grid_auto_columns": null,
            "grid_auto_flow": null,
            "grid_auto_rows": null,
            "grid_column": null,
            "grid_gap": null,
            "grid_row": null,
            "grid_template_areas": null,
            "grid_template_columns": null,
            "grid_template_rows": null,
            "height": null,
            "justify_content": null,
            "justify_items": null,
            "left": null,
            "margin": null,
            "max_height": null,
            "max_width": null,
            "min_height": null,
            "min_width": null,
            "object_fit": null,
            "object_position": null,
            "order": null,
            "overflow": null,
            "overflow_x": null,
            "overflow_y": null,
            "padding": null,
            "right": null,
            "top": null,
            "visibility": null,
            "width": null
          }
        },
        "41ea42324bab42deb9d437409c77bd7d": {
          "model_module": "@jupyter-widgets/base",
          "model_name": "LayoutModel",
          "model_module_version": "1.2.0",
          "state": {
            "_model_module": "@jupyter-widgets/base",
            "_model_module_version": "1.2.0",
            "_model_name": "LayoutModel",
            "_view_count": null,
            "_view_module": "@jupyter-widgets/base",
            "_view_module_version": "1.2.0",
            "_view_name": "LayoutView",
            "align_content": null,
            "align_items": null,
            "align_self": null,
            "border": null,
            "bottom": null,
            "display": null,
            "flex": null,
            "flex_flow": null,
            "grid_area": null,
            "grid_auto_columns": null,
            "grid_auto_flow": null,
            "grid_auto_rows": null,
            "grid_column": null,
            "grid_gap": null,
            "grid_row": null,
            "grid_template_areas": null,
            "grid_template_columns": null,
            "grid_template_rows": null,
            "height": null,
            "justify_content": null,
            "justify_items": null,
            "left": null,
            "margin": null,
            "max_height": null,
            "max_width": null,
            "min_height": null,
            "min_width": null,
            "object_fit": null,
            "object_position": null,
            "order": null,
            "overflow": null,
            "overflow_x": null,
            "overflow_y": null,
            "padding": null,
            "right": null,
            "top": null,
            "visibility": null,
            "width": null
          }
        },
        "6bb739d9898a425d8dbb3c1e17add571": {
          "model_module": "@jupyter-widgets/controls",
          "model_name": "DescriptionStyleModel",
          "model_module_version": "1.5.0",
          "state": {
            "_model_module": "@jupyter-widgets/controls",
            "_model_module_version": "1.5.0",
            "_model_name": "DescriptionStyleModel",
            "_view_count": null,
            "_view_module": "@jupyter-widgets/base",
            "_view_module_version": "1.2.0",
            "_view_name": "StyleView",
            "description_width": ""
          }
        },
        "af897422b5744d83a6d85df761d78667": {
          "model_module": "@jupyter-widgets/base",
          "model_name": "LayoutModel",
          "model_module_version": "1.2.0",
          "state": {
            "_model_module": "@jupyter-widgets/base",
            "_model_module_version": "1.2.0",
            "_model_name": "LayoutModel",
            "_view_count": null,
            "_view_module": "@jupyter-widgets/base",
            "_view_module_version": "1.2.0",
            "_view_name": "LayoutView",
            "align_content": null,
            "align_items": null,
            "align_self": null,
            "border": null,
            "bottom": null,
            "display": null,
            "flex": null,
            "flex_flow": null,
            "grid_area": null,
            "grid_auto_columns": null,
            "grid_auto_flow": null,
            "grid_auto_rows": null,
            "grid_column": null,
            "grid_gap": null,
            "grid_row": null,
            "grid_template_areas": null,
            "grid_template_columns": null,
            "grid_template_rows": null,
            "height": null,
            "justify_content": null,
            "justify_items": null,
            "left": null,
            "margin": null,
            "max_height": null,
            "max_width": null,
            "min_height": null,
            "min_width": null,
            "object_fit": null,
            "object_position": null,
            "order": null,
            "overflow": null,
            "overflow_x": null,
            "overflow_y": null,
            "padding": null,
            "right": null,
            "top": null,
            "visibility": null,
            "width": null
          }
        },
        "faa17123c5984bc3bccd5c8ff537f35b": {
          "model_module": "@jupyter-widgets/controls",
          "model_name": "ProgressStyleModel",
          "model_module_version": "1.5.0",
          "state": {
            "_model_module": "@jupyter-widgets/controls",
            "_model_module_version": "1.5.0",
            "_model_name": "ProgressStyleModel",
            "_view_count": null,
            "_view_module": "@jupyter-widgets/base",
            "_view_module_version": "1.2.0",
            "_view_name": "StyleView",
            "bar_color": null,
            "description_width": ""
          }
        },
        "845d2d6dcaaf462085bb67d712a0d5c8": {
          "model_module": "@jupyter-widgets/base",
          "model_name": "LayoutModel",
          "model_module_version": "1.2.0",
          "state": {
            "_model_module": "@jupyter-widgets/base",
            "_model_module_version": "1.2.0",
            "_model_name": "LayoutModel",
            "_view_count": null,
            "_view_module": "@jupyter-widgets/base",
            "_view_module_version": "1.2.0",
            "_view_name": "LayoutView",
            "align_content": null,
            "align_items": null,
            "align_self": null,
            "border": null,
            "bottom": null,
            "display": null,
            "flex": null,
            "flex_flow": null,
            "grid_area": null,
            "grid_auto_columns": null,
            "grid_auto_flow": null,
            "grid_auto_rows": null,
            "grid_column": null,
            "grid_gap": null,
            "grid_row": null,
            "grid_template_areas": null,
            "grid_template_columns": null,
            "grid_template_rows": null,
            "height": null,
            "justify_content": null,
            "justify_items": null,
            "left": null,
            "margin": null,
            "max_height": null,
            "max_width": null,
            "min_height": null,
            "min_width": null,
            "object_fit": null,
            "object_position": null,
            "order": null,
            "overflow": null,
            "overflow_x": null,
            "overflow_y": null,
            "padding": null,
            "right": null,
            "top": null,
            "visibility": null,
            "width": null
          }
        },
        "070da4a730144a70a6fbaf765e2c707f": {
          "model_module": "@jupyter-widgets/controls",
          "model_name": "DescriptionStyleModel",
          "model_module_version": "1.5.0",
          "state": {
            "_model_module": "@jupyter-widgets/controls",
            "_model_module_version": "1.5.0",
            "_model_name": "DescriptionStyleModel",
            "_view_count": null,
            "_view_module": "@jupyter-widgets/base",
            "_view_module_version": "1.2.0",
            "_view_name": "StyleView",
            "description_width": ""
          }
        },
        "081ce01efcbf4ccea42fabbfd368dde3": {
          "model_module": "@jupyter-widgets/controls",
          "model_name": "HBoxModel",
          "model_module_version": "1.5.0",
          "state": {
            "_dom_classes": [],
            "_model_module": "@jupyter-widgets/controls",
            "_model_module_version": "1.5.0",
            "_model_name": "HBoxModel",
            "_view_count": null,
            "_view_module": "@jupyter-widgets/controls",
            "_view_module_version": "1.5.0",
            "_view_name": "HBoxView",
            "box_style": "",
            "children": [
              "IPY_MODEL_6c22e9ac838e4583bc3c5e36de1831ea",
              "IPY_MODEL_8a79e8f11b544b5eaaee8856879a339b",
              "IPY_MODEL_e9c94f9263e04d62aa16104649424139"
            ],
            "layout": "IPY_MODEL_31010b2f38c34fa89705801d7d9c8791"
          }
        },
        "6c22e9ac838e4583bc3c5e36de1831ea": {
          "model_module": "@jupyter-widgets/controls",
          "model_name": "HTMLModel",
          "model_module_version": "1.5.0",
          "state": {
            "_dom_classes": [],
            "_model_module": "@jupyter-widgets/controls",
            "_model_module_version": "1.5.0",
            "_model_name": "HTMLModel",
            "_view_count": null,
            "_view_module": "@jupyter-widgets/controls",
            "_view_module_version": "1.5.0",
            "_view_name": "HTMLView",
            "description": "",
            "description_tooltip": null,
            "layout": "IPY_MODEL_5f2e0c07ee4148fba7c25e398a7b000c",
            "placeholder": "​",
            "style": "IPY_MODEL_1e992fc7a88a46e79c74b083de7b3cdf",
            "value": "vocab.txt: 100%"
          }
        },
        "8a79e8f11b544b5eaaee8856879a339b": {
          "model_module": "@jupyter-widgets/controls",
          "model_name": "FloatProgressModel",
          "model_module_version": "1.5.0",
          "state": {
            "_dom_classes": [],
            "_model_module": "@jupyter-widgets/controls",
            "_model_module_version": "1.5.0",
            "_model_name": "FloatProgressModel",
            "_view_count": null,
            "_view_module": "@jupyter-widgets/controls",
            "_view_module_version": "1.5.0",
            "_view_name": "ProgressView",
            "bar_style": "success",
            "description": "",
            "description_tooltip": null,
            "layout": "IPY_MODEL_bf034956ce9b42729f97fbb4b72a1cb9",
            "max": 528678,
            "min": 0,
            "orientation": "horizontal",
            "style": "IPY_MODEL_08a4cc7c3e284c3b985f498327f4ff1b",
            "value": 528678
          }
        },
        "e9c94f9263e04d62aa16104649424139": {
          "model_module": "@jupyter-widgets/controls",
          "model_name": "HTMLModel",
          "model_module_version": "1.5.0",
          "state": {
            "_dom_classes": [],
            "_model_module": "@jupyter-widgets/controls",
            "_model_module_version": "1.5.0",
            "_model_name": "HTMLModel",
            "_view_count": null,
            "_view_module": "@jupyter-widgets/controls",
            "_view_module_version": "1.5.0",
            "_view_name": "HTMLView",
            "description": "",
            "description_tooltip": null,
            "layout": "IPY_MODEL_c982de4ddf0048a384cb7b80ed3767e6",
            "placeholder": "​",
            "style": "IPY_MODEL_702ec648cb43484884c115f2796e5975",
            "value": " 529k/529k [00:00&lt;00:00, 2.13MB/s]"
          }
        },
        "31010b2f38c34fa89705801d7d9c8791": {
          "model_module": "@jupyter-widgets/base",
          "model_name": "LayoutModel",
          "model_module_version": "1.2.0",
          "state": {
            "_model_module": "@jupyter-widgets/base",
            "_model_module_version": "1.2.0",
            "_model_name": "LayoutModel",
            "_view_count": null,
            "_view_module": "@jupyter-widgets/base",
            "_view_module_version": "1.2.0",
            "_view_name": "LayoutView",
            "align_content": null,
            "align_items": null,
            "align_self": null,
            "border": null,
            "bottom": null,
            "display": null,
            "flex": null,
            "flex_flow": null,
            "grid_area": null,
            "grid_auto_columns": null,
            "grid_auto_flow": null,
            "grid_auto_rows": null,
            "grid_column": null,
            "grid_gap": null,
            "grid_row": null,
            "grid_template_areas": null,
            "grid_template_columns": null,
            "grid_template_rows": null,
            "height": null,
            "justify_content": null,
            "justify_items": null,
            "left": null,
            "margin": null,
            "max_height": null,
            "max_width": null,
            "min_height": null,
            "min_width": null,
            "object_fit": null,
            "object_position": null,
            "order": null,
            "overflow": null,
            "overflow_x": null,
            "overflow_y": null,
            "padding": null,
            "right": null,
            "top": null,
            "visibility": null,
            "width": null
          }
        },
        "5f2e0c07ee4148fba7c25e398a7b000c": {
          "model_module": "@jupyter-widgets/base",
          "model_name": "LayoutModel",
          "model_module_version": "1.2.0",
          "state": {
            "_model_module": "@jupyter-widgets/base",
            "_model_module_version": "1.2.0",
            "_model_name": "LayoutModel",
            "_view_count": null,
            "_view_module": "@jupyter-widgets/base",
            "_view_module_version": "1.2.0",
            "_view_name": "LayoutView",
            "align_content": null,
            "align_items": null,
            "align_self": null,
            "border": null,
            "bottom": null,
            "display": null,
            "flex": null,
            "flex_flow": null,
            "grid_area": null,
            "grid_auto_columns": null,
            "grid_auto_flow": null,
            "grid_auto_rows": null,
            "grid_column": null,
            "grid_gap": null,
            "grid_row": null,
            "grid_template_areas": null,
            "grid_template_columns": null,
            "grid_template_rows": null,
            "height": null,
            "justify_content": null,
            "justify_items": null,
            "left": null,
            "margin": null,
            "max_height": null,
            "max_width": null,
            "min_height": null,
            "min_width": null,
            "object_fit": null,
            "object_position": null,
            "order": null,
            "overflow": null,
            "overflow_x": null,
            "overflow_y": null,
            "padding": null,
            "right": null,
            "top": null,
            "visibility": null,
            "width": null
          }
        },
        "1e992fc7a88a46e79c74b083de7b3cdf": {
          "model_module": "@jupyter-widgets/controls",
          "model_name": "DescriptionStyleModel",
          "model_module_version": "1.5.0",
          "state": {
            "_model_module": "@jupyter-widgets/controls",
            "_model_module_version": "1.5.0",
            "_model_name": "DescriptionStyleModel",
            "_view_count": null,
            "_view_module": "@jupyter-widgets/base",
            "_view_module_version": "1.2.0",
            "_view_name": "StyleView",
            "description_width": ""
          }
        },
        "bf034956ce9b42729f97fbb4b72a1cb9": {
          "model_module": "@jupyter-widgets/base",
          "model_name": "LayoutModel",
          "model_module_version": "1.2.0",
          "state": {
            "_model_module": "@jupyter-widgets/base",
            "_model_module_version": "1.2.0",
            "_model_name": "LayoutModel",
            "_view_count": null,
            "_view_module": "@jupyter-widgets/base",
            "_view_module_version": "1.2.0",
            "_view_name": "LayoutView",
            "align_content": null,
            "align_items": null,
            "align_self": null,
            "border": null,
            "bottom": null,
            "display": null,
            "flex": null,
            "flex_flow": null,
            "grid_area": null,
            "grid_auto_columns": null,
            "grid_auto_flow": null,
            "grid_auto_rows": null,
            "grid_column": null,
            "grid_gap": null,
            "grid_row": null,
            "grid_template_areas": null,
            "grid_template_columns": null,
            "grid_template_rows": null,
            "height": null,
            "justify_content": null,
            "justify_items": null,
            "left": null,
            "margin": null,
            "max_height": null,
            "max_width": null,
            "min_height": null,
            "min_width": null,
            "object_fit": null,
            "object_position": null,
            "order": null,
            "overflow": null,
            "overflow_x": null,
            "overflow_y": null,
            "padding": null,
            "right": null,
            "top": null,
            "visibility": null,
            "width": null
          }
        },
        "08a4cc7c3e284c3b985f498327f4ff1b": {
          "model_module": "@jupyter-widgets/controls",
          "model_name": "ProgressStyleModel",
          "model_module_version": "1.5.0",
          "state": {
            "_model_module": "@jupyter-widgets/controls",
            "_model_module_version": "1.5.0",
            "_model_name": "ProgressStyleModel",
            "_view_count": null,
            "_view_module": "@jupyter-widgets/base",
            "_view_module_version": "1.2.0",
            "_view_name": "StyleView",
            "bar_color": null,
            "description_width": ""
          }
        },
        "c982de4ddf0048a384cb7b80ed3767e6": {
          "model_module": "@jupyter-widgets/base",
          "model_name": "LayoutModel",
          "model_module_version": "1.2.0",
          "state": {
            "_model_module": "@jupyter-widgets/base",
            "_model_module_version": "1.2.0",
            "_model_name": "LayoutModel",
            "_view_count": null,
            "_view_module": "@jupyter-widgets/base",
            "_view_module_version": "1.2.0",
            "_view_name": "LayoutView",
            "align_content": null,
            "align_items": null,
            "align_self": null,
            "border": null,
            "bottom": null,
            "display": null,
            "flex": null,
            "flex_flow": null,
            "grid_area": null,
            "grid_auto_columns": null,
            "grid_auto_flow": null,
            "grid_auto_rows": null,
            "grid_column": null,
            "grid_gap": null,
            "grid_row": null,
            "grid_template_areas": null,
            "grid_template_columns": null,
            "grid_template_rows": null,
            "height": null,
            "justify_content": null,
            "justify_items": null,
            "left": null,
            "margin": null,
            "max_height": null,
            "max_width": null,
            "min_height": null,
            "min_width": null,
            "object_fit": null,
            "object_position": null,
            "order": null,
            "overflow": null,
            "overflow_x": null,
            "overflow_y": null,
            "padding": null,
            "right": null,
            "top": null,
            "visibility": null,
            "width": null
          }
        },
        "702ec648cb43484884c115f2796e5975": {
          "model_module": "@jupyter-widgets/controls",
          "model_name": "DescriptionStyleModel",
          "model_module_version": "1.5.0",
          "state": {
            "_model_module": "@jupyter-widgets/controls",
            "_model_module_version": "1.5.0",
            "_model_name": "DescriptionStyleModel",
            "_view_count": null,
            "_view_module": "@jupyter-widgets/base",
            "_view_module_version": "1.2.0",
            "_view_name": "StyleView",
            "description_width": ""
          }
        },
        "c1f2a6ddfcf24bf1b2cd83ba1a5a6cbc": {
          "model_module": "@jupyter-widgets/controls",
          "model_name": "HBoxModel",
          "model_module_version": "1.5.0",
          "state": {
            "_dom_classes": [],
            "_model_module": "@jupyter-widgets/controls",
            "_model_module_version": "1.5.0",
            "_model_name": "HBoxModel",
            "_view_count": null,
            "_view_module": "@jupyter-widgets/controls",
            "_view_module_version": "1.5.0",
            "_view_name": "HBoxView",
            "box_style": "",
            "children": [
              "IPY_MODEL_6477a2cba57e496488f4d5d94f6e2b74",
              "IPY_MODEL_c083b895b9b843d5a6565bea8de45e4e",
              "IPY_MODEL_f0f1ad9acbe948fa96e494601635d14b"
            ],
            "layout": "IPY_MODEL_63d0581b2b074442aac73db258735f4f"
          }
        },
        "6477a2cba57e496488f4d5d94f6e2b74": {
          "model_module": "@jupyter-widgets/controls",
          "model_name": "HTMLModel",
          "model_module_version": "1.5.0",
          "state": {
            "_dom_classes": [],
            "_model_module": "@jupyter-widgets/controls",
            "_model_module_version": "1.5.0",
            "_model_name": "HTMLModel",
            "_view_count": null,
            "_view_module": "@jupyter-widgets/controls",
            "_view_module_version": "1.5.0",
            "_view_name": "HTMLView",
            "description": "",
            "description_tooltip": null,
            "layout": "IPY_MODEL_8187965756ac4a67ab505d4687ac74a6",
            "placeholder": "​",
            "style": "IPY_MODEL_222fd6a9d96e4c17a4b4e8a4a3b19126",
            "value": "pytorch_model.bin: 100%"
          }
        },
        "c083b895b9b843d5a6565bea8de45e4e": {
          "model_module": "@jupyter-widgets/controls",
          "model_name": "FloatProgressModel",
          "model_module_version": "1.5.0",
          "state": {
            "_dom_classes": [],
            "_model_module": "@jupyter-widgets/controls",
            "_model_module_version": "1.5.0",
            "_model_name": "FloatProgressModel",
            "_view_count": null,
            "_view_module": "@jupyter-widgets/controls",
            "_view_module_version": "1.5.0",
            "_view_name": "ProgressView",
            "bar_style": "success",
            "description": "",
            "description_tooltip": null,
            "layout": "IPY_MODEL_340c88e4997e4affa2845f7d358e0e89",
            "max": 438141995,
            "min": 0,
            "orientation": "horizontal",
            "style": "IPY_MODEL_f2ec1a9a1e1443ffa78ec757c09c9073",
            "value": 438141995
          }
        },
        "f0f1ad9acbe948fa96e494601635d14b": {
          "model_module": "@jupyter-widgets/controls",
          "model_name": "HTMLModel",
          "model_module_version": "1.5.0",
          "state": {
            "_dom_classes": [],
            "_model_module": "@jupyter-widgets/controls",
            "_model_module_version": "1.5.0",
            "_model_name": "HTMLModel",
            "_view_count": null,
            "_view_module": "@jupyter-widgets/controls",
            "_view_module_version": "1.5.0",
            "_view_name": "HTMLView",
            "description": "",
            "description_tooltip": null,
            "layout": "IPY_MODEL_6e8c4dcac4df4aa0a4d2673a9a87a885",
            "placeholder": "​",
            "style": "IPY_MODEL_fcb63dfd221241d88210fd848cb2f3bb",
            "value": " 438M/438M [00:04&lt;00:00, 117MB/s]"
          }
        },
        "63d0581b2b074442aac73db258735f4f": {
          "model_module": "@jupyter-widgets/base",
          "model_name": "LayoutModel",
          "model_module_version": "1.2.0",
          "state": {
            "_model_module": "@jupyter-widgets/base",
            "_model_module_version": "1.2.0",
            "_model_name": "LayoutModel",
            "_view_count": null,
            "_view_module": "@jupyter-widgets/base",
            "_view_module_version": "1.2.0",
            "_view_name": "LayoutView",
            "align_content": null,
            "align_items": null,
            "align_self": null,
            "border": null,
            "bottom": null,
            "display": null,
            "flex": null,
            "flex_flow": null,
            "grid_area": null,
            "grid_auto_columns": null,
            "grid_auto_flow": null,
            "grid_auto_rows": null,
            "grid_column": null,
            "grid_gap": null,
            "grid_row": null,
            "grid_template_areas": null,
            "grid_template_columns": null,
            "grid_template_rows": null,
            "height": null,
            "justify_content": null,
            "justify_items": null,
            "left": null,
            "margin": null,
            "max_height": null,
            "max_width": null,
            "min_height": null,
            "min_width": null,
            "object_fit": null,
            "object_position": null,
            "order": null,
            "overflow": null,
            "overflow_x": null,
            "overflow_y": null,
            "padding": null,
            "right": null,
            "top": null,
            "visibility": null,
            "width": null
          }
        },
        "8187965756ac4a67ab505d4687ac74a6": {
          "model_module": "@jupyter-widgets/base",
          "model_name": "LayoutModel",
          "model_module_version": "1.2.0",
          "state": {
            "_model_module": "@jupyter-widgets/base",
            "_model_module_version": "1.2.0",
            "_model_name": "LayoutModel",
            "_view_count": null,
            "_view_module": "@jupyter-widgets/base",
            "_view_module_version": "1.2.0",
            "_view_name": "LayoutView",
            "align_content": null,
            "align_items": null,
            "align_self": null,
            "border": null,
            "bottom": null,
            "display": null,
            "flex": null,
            "flex_flow": null,
            "grid_area": null,
            "grid_auto_columns": null,
            "grid_auto_flow": null,
            "grid_auto_rows": null,
            "grid_column": null,
            "grid_gap": null,
            "grid_row": null,
            "grid_template_areas": null,
            "grid_template_columns": null,
            "grid_template_rows": null,
            "height": null,
            "justify_content": null,
            "justify_items": null,
            "left": null,
            "margin": null,
            "max_height": null,
            "max_width": null,
            "min_height": null,
            "min_width": null,
            "object_fit": null,
            "object_position": null,
            "order": null,
            "overflow": null,
            "overflow_x": null,
            "overflow_y": null,
            "padding": null,
            "right": null,
            "top": null,
            "visibility": null,
            "width": null
          }
        },
        "222fd6a9d96e4c17a4b4e8a4a3b19126": {
          "model_module": "@jupyter-widgets/controls",
          "model_name": "DescriptionStyleModel",
          "model_module_version": "1.5.0",
          "state": {
            "_model_module": "@jupyter-widgets/controls",
            "_model_module_version": "1.5.0",
            "_model_name": "DescriptionStyleModel",
            "_view_count": null,
            "_view_module": "@jupyter-widgets/base",
            "_view_module_version": "1.2.0",
            "_view_name": "StyleView",
            "description_width": ""
          }
        },
        "340c88e4997e4affa2845f7d358e0e89": {
          "model_module": "@jupyter-widgets/base",
          "model_name": "LayoutModel",
          "model_module_version": "1.2.0",
          "state": {
            "_model_module": "@jupyter-widgets/base",
            "_model_module_version": "1.2.0",
            "_model_name": "LayoutModel",
            "_view_count": null,
            "_view_module": "@jupyter-widgets/base",
            "_view_module_version": "1.2.0",
            "_view_name": "LayoutView",
            "align_content": null,
            "align_items": null,
            "align_self": null,
            "border": null,
            "bottom": null,
            "display": null,
            "flex": null,
            "flex_flow": null,
            "grid_area": null,
            "grid_auto_columns": null,
            "grid_auto_flow": null,
            "grid_auto_rows": null,
            "grid_column": null,
            "grid_gap": null,
            "grid_row": null,
            "grid_template_areas": null,
            "grid_template_columns": null,
            "grid_template_rows": null,
            "height": null,
            "justify_content": null,
            "justify_items": null,
            "left": null,
            "margin": null,
            "max_height": null,
            "max_width": null,
            "min_height": null,
            "min_width": null,
            "object_fit": null,
            "object_position": null,
            "order": null,
            "overflow": null,
            "overflow_x": null,
            "overflow_y": null,
            "padding": null,
            "right": null,
            "top": null,
            "visibility": null,
            "width": null
          }
        },
        "f2ec1a9a1e1443ffa78ec757c09c9073": {
          "model_module": "@jupyter-widgets/controls",
          "model_name": "ProgressStyleModel",
          "model_module_version": "1.5.0",
          "state": {
            "_model_module": "@jupyter-widgets/controls",
            "_model_module_version": "1.5.0",
            "_model_name": "ProgressStyleModel",
            "_view_count": null,
            "_view_module": "@jupyter-widgets/base",
            "_view_module_version": "1.2.0",
            "_view_name": "StyleView",
            "bar_color": null,
            "description_width": ""
          }
        },
        "6e8c4dcac4df4aa0a4d2673a9a87a885": {
          "model_module": "@jupyter-widgets/base",
          "model_name": "LayoutModel",
          "model_module_version": "1.2.0",
          "state": {
            "_model_module": "@jupyter-widgets/base",
            "_model_module_version": "1.2.0",
            "_model_name": "LayoutModel",
            "_view_count": null,
            "_view_module": "@jupyter-widgets/base",
            "_view_module_version": "1.2.0",
            "_view_name": "LayoutView",
            "align_content": null,
            "align_items": null,
            "align_self": null,
            "border": null,
            "bottom": null,
            "display": null,
            "flex": null,
            "flex_flow": null,
            "grid_area": null,
            "grid_auto_columns": null,
            "grid_auto_flow": null,
            "grid_auto_rows": null,
            "grid_column": null,
            "grid_gap": null,
            "grid_row": null,
            "grid_template_areas": null,
            "grid_template_columns": null,
            "grid_template_rows": null,
            "height": null,
            "justify_content": null,
            "justify_items": null,
            "left": null,
            "margin": null,
            "max_height": null,
            "max_width": null,
            "min_height": null,
            "min_width": null,
            "object_fit": null,
            "object_position": null,
            "order": null,
            "overflow": null,
            "overflow_x": null,
            "overflow_y": null,
            "padding": null,
            "right": null,
            "top": null,
            "visibility": null,
            "width": null
          }
        },
        "fcb63dfd221241d88210fd848cb2f3bb": {
          "model_module": "@jupyter-widgets/controls",
          "model_name": "DescriptionStyleModel",
          "model_module_version": "1.5.0",
          "state": {
            "_model_module": "@jupyter-widgets/controls",
            "_model_module_version": "1.5.0",
            "_model_name": "DescriptionStyleModel",
            "_view_count": null,
            "_view_module": "@jupyter-widgets/base",
            "_view_module_version": "1.2.0",
            "_view_name": "StyleView",
            "description_width": ""
          }
        },
        "514af68806f04671bc5d6aa780c0a94c": {
          "model_module": "@jupyter-widgets/controls",
          "model_name": "HBoxModel",
          "model_module_version": "1.5.0",
          "state": {
            "_dom_classes": [],
            "_model_module": "@jupyter-widgets/controls",
            "_model_module_version": "1.5.0",
            "_model_name": "HBoxModel",
            "_view_count": null,
            "_view_module": "@jupyter-widgets/controls",
            "_view_module_version": "1.5.0",
            "_view_name": "HBoxView",
            "box_style": "",
            "children": [
              "IPY_MODEL_77fac2f0e03547c8998b88ad3e8b806e",
              "IPY_MODEL_c214c20e1c0c4570b7559b34574b60b2",
              "IPY_MODEL_08b9f58fcc454412846eae81b3ca3b59"
            ],
            "layout": "IPY_MODEL_bf1270300dce433bbe6d9ff93702bd7a"
          }
        },
        "77fac2f0e03547c8998b88ad3e8b806e": {
          "model_module": "@jupyter-widgets/controls",
          "model_name": "HTMLModel",
          "model_module_version": "1.5.0",
          "state": {
            "_dom_classes": [],
            "_model_module": "@jupyter-widgets/controls",
            "_model_module_version": "1.5.0",
            "_model_name": "HTMLModel",
            "_view_count": null,
            "_view_module": "@jupyter-widgets/controls",
            "_view_module_version": "1.5.0",
            "_view_name": "HTMLView",
            "description": "",
            "description_tooltip": null,
            "layout": "IPY_MODEL_f7cd46549baa47c49387567b1eba7db8",
            "placeholder": "​",
            "style": "IPY_MODEL_b458acb5493d45069a3c5f9e1635b20a",
            "value": "100%"
          }
        },
        "c214c20e1c0c4570b7559b34574b60b2": {
          "model_module": "@jupyter-widgets/controls",
          "model_name": "FloatProgressModel",
          "model_module_version": "1.5.0",
          "state": {
            "_dom_classes": [],
            "_model_module": "@jupyter-widgets/controls",
            "_model_module_version": "1.5.0",
            "_model_name": "FloatProgressModel",
            "_view_count": null,
            "_view_module": "@jupyter-widgets/controls",
            "_view_module_version": "1.5.0",
            "_view_name": "ProgressView",
            "bar_style": "",
            "description": "",
            "description_tooltip": null,
            "layout": "IPY_MODEL_4281a710c6c44fd2bb7b5b086db5fae3",
            "max": 732,
            "min": 0,
            "orientation": "horizontal",
            "style": "IPY_MODEL_2cb2026b10de4ef5b063199750d7e2aa",
            "value": 732
          }
        },
        "08b9f58fcc454412846eae81b3ca3b59": {
          "model_module": "@jupyter-widgets/controls",
          "model_name": "HTMLModel",
          "model_module_version": "1.5.0",
          "state": {
            "_dom_classes": [],
            "_model_module": "@jupyter-widgets/controls",
            "_model_module_version": "1.5.0",
            "_model_name": "HTMLModel",
            "_view_count": null,
            "_view_module": "@jupyter-widgets/controls",
            "_view_module_version": "1.5.0",
            "_view_name": "HTMLView",
            "description": "",
            "description_tooltip": null,
            "layout": "IPY_MODEL_e3ce31f779874a1a8c3c836ffc924953",
            "placeholder": "​",
            "style": "IPY_MODEL_e47803ac3e3e4c98b7051f8f4bf5ce33",
            "value": " 732/732 [40:02&lt;00:00,  2.76s/it]"
          }
        },
        "bf1270300dce433bbe6d9ff93702bd7a": {
          "model_module": "@jupyter-widgets/base",
          "model_name": "LayoutModel",
          "model_module_version": "1.2.0",
          "state": {
            "_model_module": "@jupyter-widgets/base",
            "_model_module_version": "1.2.0",
            "_model_name": "LayoutModel",
            "_view_count": null,
            "_view_module": "@jupyter-widgets/base",
            "_view_module_version": "1.2.0",
            "_view_name": "LayoutView",
            "align_content": null,
            "align_items": null,
            "align_self": null,
            "border": null,
            "bottom": null,
            "display": null,
            "flex": null,
            "flex_flow": null,
            "grid_area": null,
            "grid_auto_columns": null,
            "grid_auto_flow": null,
            "grid_auto_rows": null,
            "grid_column": null,
            "grid_gap": null,
            "grid_row": null,
            "grid_template_areas": null,
            "grid_template_columns": null,
            "grid_template_rows": null,
            "height": null,
            "justify_content": null,
            "justify_items": null,
            "left": null,
            "margin": null,
            "max_height": null,
            "max_width": null,
            "min_height": null,
            "min_width": null,
            "object_fit": null,
            "object_position": null,
            "order": null,
            "overflow": null,
            "overflow_x": null,
            "overflow_y": null,
            "padding": null,
            "right": null,
            "top": null,
            "visibility": null,
            "width": null
          }
        },
        "f7cd46549baa47c49387567b1eba7db8": {
          "model_module": "@jupyter-widgets/base",
          "model_name": "LayoutModel",
          "model_module_version": "1.2.0",
          "state": {
            "_model_module": "@jupyter-widgets/base",
            "_model_module_version": "1.2.0",
            "_model_name": "LayoutModel",
            "_view_count": null,
            "_view_module": "@jupyter-widgets/base",
            "_view_module_version": "1.2.0",
            "_view_name": "LayoutView",
            "align_content": null,
            "align_items": null,
            "align_self": null,
            "border": null,
            "bottom": null,
            "display": null,
            "flex": null,
            "flex_flow": null,
            "grid_area": null,
            "grid_auto_columns": null,
            "grid_auto_flow": null,
            "grid_auto_rows": null,
            "grid_column": null,
            "grid_gap": null,
            "grid_row": null,
            "grid_template_areas": null,
            "grid_template_columns": null,
            "grid_template_rows": null,
            "height": null,
            "justify_content": null,
            "justify_items": null,
            "left": null,
            "margin": null,
            "max_height": null,
            "max_width": null,
            "min_height": null,
            "min_width": null,
            "object_fit": null,
            "object_position": null,
            "order": null,
            "overflow": null,
            "overflow_x": null,
            "overflow_y": null,
            "padding": null,
            "right": null,
            "top": null,
            "visibility": null,
            "width": null
          }
        },
        "b458acb5493d45069a3c5f9e1635b20a": {
          "model_module": "@jupyter-widgets/controls",
          "model_name": "DescriptionStyleModel",
          "model_module_version": "1.5.0",
          "state": {
            "_model_module": "@jupyter-widgets/controls",
            "_model_module_version": "1.5.0",
            "_model_name": "DescriptionStyleModel",
            "_view_count": null,
            "_view_module": "@jupyter-widgets/base",
            "_view_module_version": "1.2.0",
            "_view_name": "StyleView",
            "description_width": ""
          }
        },
        "4281a710c6c44fd2bb7b5b086db5fae3": {
          "model_module": "@jupyter-widgets/base",
          "model_name": "LayoutModel",
          "model_module_version": "1.2.0",
          "state": {
            "_model_module": "@jupyter-widgets/base",
            "_model_module_version": "1.2.0",
            "_model_name": "LayoutModel",
            "_view_count": null,
            "_view_module": "@jupyter-widgets/base",
            "_view_module_version": "1.2.0",
            "_view_name": "LayoutView",
            "align_content": null,
            "align_items": null,
            "align_self": null,
            "border": null,
            "bottom": null,
            "display": null,
            "flex": null,
            "flex_flow": null,
            "grid_area": null,
            "grid_auto_columns": null,
            "grid_auto_flow": null,
            "grid_auto_rows": null,
            "grid_column": null,
            "grid_gap": null,
            "grid_row": null,
            "grid_template_areas": null,
            "grid_template_columns": null,
            "grid_template_rows": null,
            "height": null,
            "justify_content": null,
            "justify_items": null,
            "left": null,
            "margin": null,
            "max_height": null,
            "max_width": null,
            "min_height": null,
            "min_width": null,
            "object_fit": null,
            "object_position": null,
            "order": null,
            "overflow": null,
            "overflow_x": null,
            "overflow_y": null,
            "padding": null,
            "right": null,
            "top": null,
            "visibility": null,
            "width": null
          }
        },
        "2cb2026b10de4ef5b063199750d7e2aa": {
          "model_module": "@jupyter-widgets/controls",
          "model_name": "ProgressStyleModel",
          "model_module_version": "1.5.0",
          "state": {
            "_model_module": "@jupyter-widgets/controls",
            "_model_module_version": "1.5.0",
            "_model_name": "ProgressStyleModel",
            "_view_count": null,
            "_view_module": "@jupyter-widgets/base",
            "_view_module_version": "1.2.0",
            "_view_name": "StyleView",
            "bar_color": null,
            "description_width": ""
          }
        },
        "e3ce31f779874a1a8c3c836ffc924953": {
          "model_module": "@jupyter-widgets/base",
          "model_name": "LayoutModel",
          "model_module_version": "1.2.0",
          "state": {
            "_model_module": "@jupyter-widgets/base",
            "_model_module_version": "1.2.0",
            "_model_name": "LayoutModel",
            "_view_count": null,
            "_view_module": "@jupyter-widgets/base",
            "_view_module_version": "1.2.0",
            "_view_name": "LayoutView",
            "align_content": null,
            "align_items": null,
            "align_self": null,
            "border": null,
            "bottom": null,
            "display": null,
            "flex": null,
            "flex_flow": null,
            "grid_area": null,
            "grid_auto_columns": null,
            "grid_auto_flow": null,
            "grid_auto_rows": null,
            "grid_column": null,
            "grid_gap": null,
            "grid_row": null,
            "grid_template_areas": null,
            "grid_template_columns": null,
            "grid_template_rows": null,
            "height": null,
            "justify_content": null,
            "justify_items": null,
            "left": null,
            "margin": null,
            "max_height": null,
            "max_width": null,
            "min_height": null,
            "min_width": null,
            "object_fit": null,
            "object_position": null,
            "order": null,
            "overflow": null,
            "overflow_x": null,
            "overflow_y": null,
            "padding": null,
            "right": null,
            "top": null,
            "visibility": null,
            "width": null
          }
        },
        "e47803ac3e3e4c98b7051f8f4bf5ce33": {
          "model_module": "@jupyter-widgets/controls",
          "model_name": "DescriptionStyleModel",
          "model_module_version": "1.5.0",
          "state": {
            "_model_module": "@jupyter-widgets/controls",
            "_model_module_version": "1.5.0",
            "_model_name": "DescriptionStyleModel",
            "_view_count": null,
            "_view_module": "@jupyter-widgets/base",
            "_view_module_version": "1.2.0",
            "_view_name": "StyleView",
            "description_width": ""
          }
        },
        "f8026f66ae224589a13d273bf67c7f28": {
          "model_module": "@jupyter-widgets/controls",
          "model_name": "HBoxModel",
          "model_module_version": "1.5.0",
          "state": {
            "_dom_classes": [],
            "_model_module": "@jupyter-widgets/controls",
            "_model_module_version": "1.5.0",
            "_model_name": "HBoxModel",
            "_view_count": null,
            "_view_module": "@jupyter-widgets/controls",
            "_view_module_version": "1.5.0",
            "_view_name": "HBoxView",
            "box_style": "",
            "children": [
              "IPY_MODEL_978925592dab4f5298550112cc6bf217",
              "IPY_MODEL_e68d5f53078a40b7ace94f3a62e9c2e0",
              "IPY_MODEL_0f974356641a4c75997ec510142de0d5"
            ],
            "layout": "IPY_MODEL_81f5b45981e04b159cb42be2a742a2b0"
          }
        },
        "978925592dab4f5298550112cc6bf217": {
          "model_module": "@jupyter-widgets/controls",
          "model_name": "HTMLModel",
          "model_module_version": "1.5.0",
          "state": {
            "_dom_classes": [],
            "_model_module": "@jupyter-widgets/controls",
            "_model_module_version": "1.5.0",
            "_model_name": "HTMLModel",
            "_view_count": null,
            "_view_module": "@jupyter-widgets/controls",
            "_view_module_version": "1.5.0",
            "_view_name": "HTMLView",
            "description": "",
            "description_tooltip": null,
            "layout": "IPY_MODEL_0d69fe4186cf4e22bdad4ee134f48ff2",
            "placeholder": "​",
            "style": "IPY_MODEL_70cca5eb19704f1aaf8acc4e4324c1b2",
            "value": "Downloading builder script: 100%"
          }
        },
        "e68d5f53078a40b7ace94f3a62e9c2e0": {
          "model_module": "@jupyter-widgets/controls",
          "model_name": "FloatProgressModel",
          "model_module_version": "1.5.0",
          "state": {
            "_dom_classes": [],
            "_model_module": "@jupyter-widgets/controls",
            "_model_module_version": "1.5.0",
            "_model_name": "FloatProgressModel",
            "_view_count": null,
            "_view_module": "@jupyter-widgets/controls",
            "_view_module_version": "1.5.0",
            "_view_name": "ProgressView",
            "bar_style": "success",
            "description": "",
            "description_tooltip": null,
            "layout": "IPY_MODEL_1e3616a54a784e5db0092f5989a950ea",
            "max": 4203,
            "min": 0,
            "orientation": "horizontal",
            "style": "IPY_MODEL_51c0a6e17c6a420db240bc3fba64fee3",
            "value": 4203
          }
        },
        "0f974356641a4c75997ec510142de0d5": {
          "model_module": "@jupyter-widgets/controls",
          "model_name": "HTMLModel",
          "model_module_version": "1.5.0",
          "state": {
            "_dom_classes": [],
            "_model_module": "@jupyter-widgets/controls",
            "_model_module_version": "1.5.0",
            "_model_name": "HTMLModel",
            "_view_count": null,
            "_view_module": "@jupyter-widgets/controls",
            "_view_module_version": "1.5.0",
            "_view_name": "HTMLView",
            "description": "",
            "description_tooltip": null,
            "layout": "IPY_MODEL_5bb1755c072d4d11927f0fb234bb28c8",
            "placeholder": "​",
            "style": "IPY_MODEL_4039af0c900c4fb8ae8f4f3f308df111",
            "value": " 4.20k/4.20k [00:00&lt;00:00, 260kB/s]"
          }
        },
        "81f5b45981e04b159cb42be2a742a2b0": {
          "model_module": "@jupyter-widgets/base",
          "model_name": "LayoutModel",
          "model_module_version": "1.2.0",
          "state": {
            "_model_module": "@jupyter-widgets/base",
            "_model_module_version": "1.2.0",
            "_model_name": "LayoutModel",
            "_view_count": null,
            "_view_module": "@jupyter-widgets/base",
            "_view_module_version": "1.2.0",
            "_view_name": "LayoutView",
            "align_content": null,
            "align_items": null,
            "align_self": null,
            "border": null,
            "bottom": null,
            "display": null,
            "flex": null,
            "flex_flow": null,
            "grid_area": null,
            "grid_auto_columns": null,
            "grid_auto_flow": null,
            "grid_auto_rows": null,
            "grid_column": null,
            "grid_gap": null,
            "grid_row": null,
            "grid_template_areas": null,
            "grid_template_columns": null,
            "grid_template_rows": null,
            "height": null,
            "justify_content": null,
            "justify_items": null,
            "left": null,
            "margin": null,
            "max_height": null,
            "max_width": null,
            "min_height": null,
            "min_width": null,
            "object_fit": null,
            "object_position": null,
            "order": null,
            "overflow": null,
            "overflow_x": null,
            "overflow_y": null,
            "padding": null,
            "right": null,
            "top": null,
            "visibility": null,
            "width": null
          }
        },
        "0d69fe4186cf4e22bdad4ee134f48ff2": {
          "model_module": "@jupyter-widgets/base",
          "model_name": "LayoutModel",
          "model_module_version": "1.2.0",
          "state": {
            "_model_module": "@jupyter-widgets/base",
            "_model_module_version": "1.2.0",
            "_model_name": "LayoutModel",
            "_view_count": null,
            "_view_module": "@jupyter-widgets/base",
            "_view_module_version": "1.2.0",
            "_view_name": "LayoutView",
            "align_content": null,
            "align_items": null,
            "align_self": null,
            "border": null,
            "bottom": null,
            "display": null,
            "flex": null,
            "flex_flow": null,
            "grid_area": null,
            "grid_auto_columns": null,
            "grid_auto_flow": null,
            "grid_auto_rows": null,
            "grid_column": null,
            "grid_gap": null,
            "grid_row": null,
            "grid_template_areas": null,
            "grid_template_columns": null,
            "grid_template_rows": null,
            "height": null,
            "justify_content": null,
            "justify_items": null,
            "left": null,
            "margin": null,
            "max_height": null,
            "max_width": null,
            "min_height": null,
            "min_width": null,
            "object_fit": null,
            "object_position": null,
            "order": null,
            "overflow": null,
            "overflow_x": null,
            "overflow_y": null,
            "padding": null,
            "right": null,
            "top": null,
            "visibility": null,
            "width": null
          }
        },
        "70cca5eb19704f1aaf8acc4e4324c1b2": {
          "model_module": "@jupyter-widgets/controls",
          "model_name": "DescriptionStyleModel",
          "model_module_version": "1.5.0",
          "state": {
            "_model_module": "@jupyter-widgets/controls",
            "_model_module_version": "1.5.0",
            "_model_name": "DescriptionStyleModel",
            "_view_count": null,
            "_view_module": "@jupyter-widgets/base",
            "_view_module_version": "1.2.0",
            "_view_name": "StyleView",
            "description_width": ""
          }
        },
        "1e3616a54a784e5db0092f5989a950ea": {
          "model_module": "@jupyter-widgets/base",
          "model_name": "LayoutModel",
          "model_module_version": "1.2.0",
          "state": {
            "_model_module": "@jupyter-widgets/base",
            "_model_module_version": "1.2.0",
            "_model_name": "LayoutModel",
            "_view_count": null,
            "_view_module": "@jupyter-widgets/base",
            "_view_module_version": "1.2.0",
            "_view_name": "LayoutView",
            "align_content": null,
            "align_items": null,
            "align_self": null,
            "border": null,
            "bottom": null,
            "display": null,
            "flex": null,
            "flex_flow": null,
            "grid_area": null,
            "grid_auto_columns": null,
            "grid_auto_flow": null,
            "grid_auto_rows": null,
            "grid_column": null,
            "grid_gap": null,
            "grid_row": null,
            "grid_template_areas": null,
            "grid_template_columns": null,
            "grid_template_rows": null,
            "height": null,
            "justify_content": null,
            "justify_items": null,
            "left": null,
            "margin": null,
            "max_height": null,
            "max_width": null,
            "min_height": null,
            "min_width": null,
            "object_fit": null,
            "object_position": null,
            "order": null,
            "overflow": null,
            "overflow_x": null,
            "overflow_y": null,
            "padding": null,
            "right": null,
            "top": null,
            "visibility": null,
            "width": null
          }
        },
        "51c0a6e17c6a420db240bc3fba64fee3": {
          "model_module": "@jupyter-widgets/controls",
          "model_name": "ProgressStyleModel",
          "model_module_version": "1.5.0",
          "state": {
            "_model_module": "@jupyter-widgets/controls",
            "_model_module_version": "1.5.0",
            "_model_name": "ProgressStyleModel",
            "_view_count": null,
            "_view_module": "@jupyter-widgets/base",
            "_view_module_version": "1.2.0",
            "_view_name": "StyleView",
            "bar_color": null,
            "description_width": ""
          }
        },
        "5bb1755c072d4d11927f0fb234bb28c8": {
          "model_module": "@jupyter-widgets/base",
          "model_name": "LayoutModel",
          "model_module_version": "1.2.0",
          "state": {
            "_model_module": "@jupyter-widgets/base",
            "_model_module_version": "1.2.0",
            "_model_name": "LayoutModel",
            "_view_count": null,
            "_view_module": "@jupyter-widgets/base",
            "_view_module_version": "1.2.0",
            "_view_name": "LayoutView",
            "align_content": null,
            "align_items": null,
            "align_self": null,
            "border": null,
            "bottom": null,
            "display": null,
            "flex": null,
            "flex_flow": null,
            "grid_area": null,
            "grid_auto_columns": null,
            "grid_auto_flow": null,
            "grid_auto_rows": null,
            "grid_column": null,
            "grid_gap": null,
            "grid_row": null,
            "grid_template_areas": null,
            "grid_template_columns": null,
            "grid_template_rows": null,
            "height": null,
            "justify_content": null,
            "justify_items": null,
            "left": null,
            "margin": null,
            "max_height": null,
            "max_width": null,
            "min_height": null,
            "min_width": null,
            "object_fit": null,
            "object_position": null,
            "order": null,
            "overflow": null,
            "overflow_x": null,
            "overflow_y": null,
            "padding": null,
            "right": null,
            "top": null,
            "visibility": null,
            "width": null
          }
        },
        "4039af0c900c4fb8ae8f4f3f308df111": {
          "model_module": "@jupyter-widgets/controls",
          "model_name": "DescriptionStyleModel",
          "model_module_version": "1.5.0",
          "state": {
            "_model_module": "@jupyter-widgets/controls",
            "_model_module_version": "1.5.0",
            "_model_name": "DescriptionStyleModel",
            "_view_count": null,
            "_view_module": "@jupyter-widgets/base",
            "_view_module_version": "1.2.0",
            "_view_name": "StyleView",
            "description_width": ""
          }
        }
      }
    }
  },
  "nbformat": 4,
  "nbformat_minor": 5
}